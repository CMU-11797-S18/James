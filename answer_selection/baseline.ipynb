{
 "cells": [
  {
   "cell_type": "code",
   "execution_count": 1,
   "metadata": {
    "collapsed": true
   },
   "outputs": [],
   "source": [
    "%load_ext autoreload\n",
    "%autoreload 2\n",
    "%matplotlib inline"
   ]
  },
  {
   "cell_type": "code",
   "execution_count": 2,
   "metadata": {
    "collapsed": true
   },
   "outputs": [],
   "source": [
    "import torch\n",
    "import json\n",
    "import pandas as pd\n",
    "import numpy as np\n",
    "import nltk\n",
    "import re\n",
    "from collections import defaultdict"
   ]
  },
  {
   "cell_type": "markdown",
   "metadata": {},
   "source": [
    "BiLSTM(Q)\n",
    "BiLSTM(C)\n",
    "softmax([Ocs, Oce]WOq)\n",
    "cross_entropy"
   ]
  },
  {
   "cell_type": "code",
   "execution_count": 17,
   "metadata": {
    "scrolled": true
   },
   "outputs": [
    {
     "ename": "IndentationError",
     "evalue": "expected an indented block (<ipython-input-17-ab57ab3cdb8f>, line 39)",
     "output_type": "error",
     "traceback": [
      "\u001b[1;36m  File \u001b[1;32m\"<ipython-input-17-ab57ab3cdb8f>\"\u001b[1;36m, line \u001b[1;32m39\u001b[0m\n\u001b[1;33m    def getQAPairTraining(qa_pair):\u001b[0m\n\u001b[1;37m                                   ^\u001b[0m\n\u001b[1;31mIndentationError\u001b[0m\u001b[1;31m:\u001b[0m expected an indented block\n"
     ]
    }
   ],
   "source": [
    "\n",
    "\n",
    "def cleanAnswer(a):\n",
    "    clean_a = []\n",
    "    for synonym_lst in a:\n",
    "        lst = []\n",
    "        for synonym in synonym_lst:\n",
    "            lst.append(bioclean(synonym))\n",
    "        clean_a.append(lst)\n",
    "    return clean_a\n",
    "\n",
    "\n",
    "    \n",
    "def ansInSnippet(a, snippet):\n",
    "    snippet = snippet.lower()\n",
    "    for synonym_lst in a:\n",
    "        for synonym in synonym_lst:\n",
    "            if synonym.lower() in snippet:\n",
    "                return True\n",
    "    return False\n",
    "\n",
    "def getQAPairClean(qa_pair):\n",
    "    qa_pair_clean = []\n",
    "    for (q, a, t, s) in qa_pair:\n",
    "        s_clean = []\n",
    "        a_clean = cleanAnswer(a)\n",
    "        q = bioclean(q)\n",
    "        for snippet in s:\n",
    "            snippet = bioclean(snippet)\n",
    "            s_clean.append(snippet)\n",
    "        qa_pair_clean.append([q, a, t, s, s_clean, a_clean, []])\n",
    "    return qa_pair_clean\n",
    "\n",
    "def getQAPairTraining(qa_pair):\n",
    "    qa_pair_clean = getQAPairClean(qa_pair)\n",
    "    qa_pair_train = []\n",
    "    p = []\n",
    "    for (q, a, t, s, s_clean, a_clean, _) in qa_pair_clean:\n",
    "        s_train = []\n",
    "        s_ori = []\n",
    "        for (i, snippet) in enumerate(s_clean):\n",
    "            spans = getSpans(a_clean, snippet)\n",
    "            if len(spans):\n",
    "                p.append(spans)\n",
    "                s_ori.append(s[i])\n",
    "                s_train.append(snippet)\n",
    "        if len(s_ori):\n",
    "            qa_pair_train.append([q, a, t, s_ori, s_train, a_clean, p])\n",
    "    return qa_pair_train\n",
    "\n",
    "def text2List(qa_pair_clean):\n",
    "    word_set = set()\n",
    "    qa_pair_t2l = []\n",
    "    for (q, a, t, s, s_clean, a_clean, p) in qa_pair_clean:\n",
    "        s_clean_t2l = []\n",
    "        for snippet in s_clean:\n",
    "            word_seq = snippet.split()\n",
    "            word_set.update(word_seq)\n",
    "            s_clean_t2l.append(word_seq)\n",
    "        q_t2l = q.split()\n",
    "        word_set.update(q_t2l)\n",
    "        for ans\n",
    "        \n",
    "        \n",
    "    return (q)\n",
    "    \n",
    "\n",
    "\n",
    "def getCleanQAPair(qa_pair):\n",
    "    qa_pair_clean = []\n",
    "    for (q, a, t, s, p) in qa_pair:\n",
    "        q = bioclean(q).split()\n",
    "        a = [bioclean(x).split() for x in a]\n",
    "        t = t\n",
    "        s = [bioclean(x).split() for x in s]\n",
    "        qa_pair_clean.append([q, a, t, s, p])\n",
    "    return qa_pair_clean\n",
    "\n",
    "\n",
    "\n",
    "def loadEmbedGloVe(w_dct, vec_path):\n",
    "    word2ind = defaultdict(lambda:len(word2ind))\n",
    "    word_vec = []\n",
    "\n",
    "    with open(vec_path, encoding='utf-8') as f:\n",
    "        for i, line in enumerate(f):\n",
    "            line = line.strip('\\n').split(' ')\n",
    "            word = bioclean(line[0])\n",
    "            if word in w_dct and word not in word2ind:\n",
    "                vec = np.array([float(x) for x in line[1:]])\n",
    "                word_vec.append(vec)\n",
    "                word2ind[word]\n",
    "    print (len(word2ind), 'words found for all', len(w_dct), 'words')\n",
    "\n",
    "    return (np.array(word_vec), word2ind)\n"
   ]
  },
  {
   "cell_type": "code",
   "execution_count": 6,
   "metadata": {},
   "outputs": [
    {
     "name": "stdout",
     "output_type": "stream",
     "text": [
      "getting qa pair from data\n",
      "duplicate snippet count: 5051\n",
      "['List signaling molecules (ligands) that interact with the receptor EGFR?', [['epidermal growth factor'], ['betacellulin'], ['epiregulin'], ['heparin-binding epidermal growth factor'], ['transforming growth factor-α'], ['amphiregulin'], ['epigen']], 'list', ['the epidermal growth factor receptor (EGFR) ligands, such as epidermal growth factor (EGF) and amphiregulin (AREG)', ' EGFR ligands epidermal growth factor (EGF), amphiregulin (AREG) and transforming growth factor alpha (TGFα)', ' EGFR and its ligand EGF ', 'Among EGFR ligands, heparin-binding EGF-like growth factor, TGF-α and Betacellulin (BTC) are produced in the tumor microenvironment of FDC-S at RNA level. ', '. Plasma amphiregulin (AR), epidermal growth factor (EGF), transforming growth factor-α, and heparin binding-EGF were assessed by ELISA in 45 chemorefractory mCRC patients', 'Among EGFR ligands, heparin-binding epidermal growth factor (HB-EGF)', ' Of the six known EGFR ligands, transforming growth factor alpha (TGFα) was expressed more highly in triple-negative breast tumors than in tumors of other subtypes.', 'the 7 known EGFR ligands (EGF, betacellulin, epiregulin, heparin-binding EGF, transforming growth factor-α [TGF-α], amphiregulin, and epigen) ', 'EGFR ligands based on the two affinity classes: EGF>HB-EGF>TGF-α>BTC>EPR>EPG>AR', 'In this article, however, we demonstrate that PEPD directly binds to and activates epidermal growth factor receptor (EGFR),', 'four EGFR ligands (AR, HB-EGF, TGF-α, and EREG) ', 'Epidermal growth factor (EGF) family peptides are ligands for the EGF receptor (EGFR). ', 'oluble amphiregulin (AR), transforming growth factor alpha (TGFα), neuregulin 2 beta, and epigen stimulate greater EGFR coupling to cell proliferation and DNA synthesis than do EGF, betacellulin, heparin-binding EGF-like growth factor, and epiregulin', 'Here, we demonstrate that histamine releases 2 EGFR ligands, amphiregulin and heparin-binding epidermal growth factor-like growth factor (HB-EGF), from airway epithelial cells.', 'mammalian EGFR ligands including EGF, TGF-α (TGFα), amphiregulin (AREG), heparin-binding EGF-like growth factor (HB-EGF), betacellulin, epiregulin, and epigen.']]\n",
      "tokenizing qa pairs\n",
      "[['List', 'signaling', 'molecules', '(', 'ligands', ')', 'that', 'interact', 'with', 'the', 'receptor', 'EGFR', '?'], [[['epidermal', 'growth', 'factor']], [['betacellulin']], [['epiregulin']], [['heparin-binding', 'epidermal', 'growth', 'factor']], [['transforming', 'growth', 'factor-α']], [['amphiregulin']], [['epigen']]], 'list', [['the', 'epidermal', 'growth', 'factor', 'receptor', '(', 'EGFR', ')', 'ligands', ',', 'such', 'as', 'epidermal', 'growth', 'factor', '(', 'EGF', ')', 'and', 'amphiregulin', '(', 'AREG', ')'], ['EGFR', 'ligands', 'epidermal', 'growth', 'factor', '(', 'EGF', ')', ',', 'amphiregulin', '(', 'AREG', ')', 'and', 'transforming', 'growth', 'factor', 'alpha', '(', 'TGFα', ')'], ['EGFR', 'and', 'its', 'ligand', 'EGF'], ['Among', 'EGFR', 'ligands', ',', 'heparin-binding', 'EGF-like', 'growth', 'factor', ',', 'TGF-α', 'and', 'Betacellulin', '(', 'BTC', ')', 'are', 'produced', 'in', 'the', 'tumor', 'microenvironment', 'of', 'FDC-S', 'at', 'RNA', 'level', '.'], ['.', 'Plasma', 'amphiregulin', '(', 'AR', ')', ',', 'epidermal', 'growth', 'factor', '(', 'EGF', ')', ',', 'transforming', 'growth', 'factor-α', ',', 'and', 'heparin', 'binding-EGF', 'were', 'assessed', 'by', 'ELISA', 'in', '45', 'chemorefractory', 'mCRC', 'patients'], ['Among', 'EGFR', 'ligands', ',', 'heparin-binding', 'epidermal', 'growth', 'factor', '(', 'HB-EGF', ')'], ['Of', 'the', 'six', 'known', 'EGFR', 'ligands', ',', 'transforming', 'growth', 'factor', 'alpha', '(', 'TGFα', ')', 'was', 'expressed', 'more', 'highly', 'in', 'triple-negative', 'breast', 'tumors', 'than', 'in', 'tumors', 'of', 'other', 'subtypes', '.'], ['the', '7', 'known', 'EGFR', 'ligands', '(', 'EGF', ',', 'betacellulin', ',', 'epiregulin', ',', 'heparin-binding', 'EGF', ',', 'transforming', 'growth', 'factor-α', '[', 'TGF-α', ']', ',', 'amphiregulin', ',', 'and', 'epigen', ')'], ['EGFR', 'ligands', 'based', 'on', 'the', 'two', 'affinity', 'classes', ':', 'EGF', '>', 'HB-EGF', '>', 'TGF-α', '>', 'BTC', '>', 'EPR', '>', 'EPG', '>', 'AR'], ['In', 'this', 'article', ',', 'however', ',', 'we', 'demonstrate', 'that', 'PEPD', 'directly', 'binds', 'to', 'and', 'activates', 'epidermal', 'growth', 'factor', 'receptor', '(', 'EGFR', ')', ','], ['four', 'EGFR', 'ligands', '(', 'AR', ',', 'HB-EGF', ',', 'TGF-α', ',', 'and', 'EREG', ')'], ['Epidermal', 'growth', 'factor', '(', 'EGF', ')', 'family', 'peptides', 'are', 'ligands', 'for', 'the', 'EGF', 'receptor', '(', 'EGFR', ')', '.'], ['oluble', 'amphiregulin', '(', 'AR', ')', ',', 'transforming', 'growth', 'factor', 'alpha', '(', 'TGFα', ')', ',', 'neuregulin', '2', 'beta', ',', 'and', 'epigen', 'stimulate', 'greater', 'EGFR', 'coupling', 'to', 'cell', 'proliferation', 'and', 'DNA', 'synthesis', 'than', 'do', 'EGF', ',', 'betacellulin', ',', 'heparin-binding', 'EGF-like', 'growth', 'factor', ',', 'and', 'epiregulin'], ['Here', ',', 'we', 'demonstrate', 'that', 'histamine', 'releases', '2', 'EGFR', 'ligands', ',', 'amphiregulin', 'and', 'heparin-binding', 'epidermal', 'growth', 'factor-like', 'growth', 'factor', '(', 'HB-EGF', ')', ',', 'from', 'airway', 'epithelial', 'cells', '.'], ['mammalian', 'EGFR', 'ligands', 'including', 'EGF', ',', 'TGF-α', '(', 'TGFα', ')', ',', 'amphiregulin', '(', 'AREG', ')', ',', 'heparin-binding', 'EGF-like', 'growth', 'factor', '(', 'HB-EGF', ')', ',', 'betacellulin', ',', 'epiregulin', ',', 'and', 'epigen', '.']]]\n",
      "adding spans into the qa_pair\n",
      "[['List', 'signaling', 'molecules', '(', 'ligands', ')', 'that', 'interact', 'with', 'the', 'receptor', 'EGFR', '?'], [[['epidermal', 'growth', 'factor']], [['betacellulin']], [['epiregulin']], [['heparin-binding', 'epidermal', 'growth', 'factor']], [['transforming', 'growth', 'factor-α']], [['amphiregulin']], [['epigen']]], 'list', [['the', 'epidermal', 'growth', 'factor', 'receptor', '(', 'EGFR', ')', 'ligands', ',', 'such', 'as', 'epidermal', 'growth', 'factor', '(', 'EGF', ')', 'and', 'amphiregulin', '(', 'AREG', ')'], ['EGFR', 'ligands', 'epidermal', 'growth', 'factor', '(', 'EGF', ')', ',', 'amphiregulin', '(', 'AREG', ')', 'and', 'transforming', 'growth', 'factor', 'alpha', '(', 'TGFα', ')'], ['Among', 'EGFR', 'ligands', ',', 'heparin-binding', 'EGF-like', 'growth', 'factor', ',', 'TGF-α', 'and', 'Betacellulin', '(', 'BTC', ')', 'are', 'produced', 'in', 'the', 'tumor', 'microenvironment', 'of', 'FDC-S', 'at', 'RNA', 'level', '.'], ['.', 'Plasma', 'amphiregulin', '(', 'AR', ')', ',', 'epidermal', 'growth', 'factor', '(', 'EGF', ')', ',', 'transforming', 'growth', 'factor-α', ',', 'and', 'heparin', 'binding-EGF', 'were', 'assessed', 'by', 'ELISA', 'in', '45', 'chemorefractory', 'mCRC', 'patients'], ['Among', 'EGFR', 'ligands', ',', 'heparin-binding', 'epidermal', 'growth', 'factor', '(', 'HB-EGF', ')'], ['the', '7', 'known', 'EGFR', 'ligands', '(', 'EGF', ',', 'betacellulin', ',', 'epiregulin', ',', 'heparin-binding', 'EGF', ',', 'transforming', 'growth', 'factor-α', '[', 'TGF-α', ']', ',', 'amphiregulin', ',', 'and', 'epigen', ')'], ['In', 'this', 'article', ',', 'however', ',', 'we', 'demonstrate', 'that', 'PEPD', 'directly', 'binds', 'to', 'and', 'activates', 'epidermal', 'growth', 'factor', 'receptor', '(', 'EGFR', ')', ','], ['Epidermal', 'growth', 'factor', '(', 'EGF', ')', 'family', 'peptides', 'are', 'ligands', 'for', 'the', 'EGF', 'receptor', '(', 'EGFR', ')', '.'], ['oluble', 'amphiregulin', '(', 'AR', ')', ',', 'transforming', 'growth', 'factor', 'alpha', '(', 'TGFα', ')', ',', 'neuregulin', '2', 'beta', ',', 'and', 'epigen', 'stimulate', 'greater', 'EGFR', 'coupling', 'to', 'cell', 'proliferation', 'and', 'DNA', 'synthesis', 'than', 'do', 'EGF', ',', 'betacellulin', ',', 'heparin-binding', 'EGF-like', 'growth', 'factor', ',', 'and', 'epiregulin'], ['Here', ',', 'we', 'demonstrate', 'that', 'histamine', 'releases', '2', 'EGFR', 'ligands', ',', 'amphiregulin', 'and', 'heparin-binding', 'epidermal', 'growth', 'factor-like', 'growth', 'factor', '(', 'HB-EGF', ')', ',', 'from', 'airway', 'epithelial', 'cells', '.'], ['mammalian', 'EGFR', 'ligands', 'including', 'EGF', ',', 'TGF-α', '(', 'TGFα', ')', ',', 'amphiregulin', '(', 'AREG', ')', ',', 'heparin-binding', 'EGF-like', 'growth', 'factor', '(', 'HB-EGF', ')', ',', 'betacellulin', ',', 'epiregulin', ',', 'and', 'epigen', '.']], [[(1, 3), (12, 14), (19, 19)], [(2, 4), (9, 9)], [(11, 11)], [(7, 9), (14, 16), (2, 2)], [(5, 7), (4, 7)], [(8, 8), (10, 10), (15, 17), (22, 22), (25, 25)], [(15, 17)], [(0, 2)], [(34, 34), (42, 42), (1, 1), (19, 19)], [(14, 16), (13, 16), (11, 11)], [(24, 24), (26, 26), (11, 11), (29, 29)]]]\n",
      "[[['epidermal', 'growth', 'factor']], [['betacellulin']], [['epiregulin']], [['heparin-binding', 'epidermal', 'growth', 'factor']], [['transforming', 'growth', 'factor-α']], [['amphiregulin']], [['epigen']]]\n",
      "[(1, 3), (12, 14), (19, 19)]\n",
      "['the', 'epidermal', 'growth', 'factor', 'receptor', '(', 'EGFR', ')', 'ligands', ',', 'such', 'as', 'epidermal', 'growth', 'factor', '(', 'EGF', ')', 'and', 'amphiregulin', '(', 'AREG', ')']\n",
      "['epidermal', 'growth', 'factor']\n",
      "['epidermal', 'growth', 'factor']\n",
      "['amphiregulin']\n",
      "[(2, 4), (9, 9)]\n",
      "['EGFR', 'ligands', 'epidermal', 'growth', 'factor', '(', 'EGF', ')', ',', 'amphiregulin', '(', 'AREG', ')', 'and', 'transforming', 'growth', 'factor', 'alpha', '(', 'TGFα', ')']\n",
      "['epidermal', 'growth', 'factor']\n",
      "['amphiregulin']\n",
      "[(11, 11)]\n",
      "['Among', 'EGFR', 'ligands', ',', 'heparin-binding', 'EGF-like', 'growth', 'factor', ',', 'TGF-α', 'and', 'Betacellulin', '(', 'BTC', ')', 'are', 'produced', 'in', 'the', 'tumor', 'microenvironment', 'of', 'FDC-S', 'at', 'RNA', 'level', '.']\n",
      "['Betacellulin']\n",
      "[(7, 9), (14, 16), (2, 2)]\n",
      "['.', 'Plasma', 'amphiregulin', '(', 'AR', ')', ',', 'epidermal', 'growth', 'factor', '(', 'EGF', ')', ',', 'transforming', 'growth', 'factor-α', ',', 'and', 'heparin', 'binding-EGF', 'were', 'assessed', 'by', 'ELISA', 'in', '45', 'chemorefractory', 'mCRC', 'patients']\n",
      "['epidermal', 'growth', 'factor']\n",
      "['transforming', 'growth', 'factor-α']\n",
      "['amphiregulin']\n",
      "[(5, 7), (4, 7)]\n"
     ]
    },
    {
     "name": "stdout",
     "output_type": "stream",
     "text": [
      "['Among', 'EGFR', 'ligands', ',', 'heparin-binding', 'epidermal', 'growth', 'factor', '(', 'HB-EGF', ')']\n",
      "['epidermal', 'growth', 'factor']\n",
      "['heparin-binding', 'epidermal', 'growth', 'factor']\n",
      "[(8, 8), (10, 10), (15, 17), (22, 22), (25, 25)]\n",
      "['the', '7', 'known', 'EGFR', 'ligands', '(', 'EGF', ',', 'betacellulin', ',', 'epiregulin', ',', 'heparin-binding', 'EGF', ',', 'transforming', 'growth', 'factor-α', '[', 'TGF-α', ']', ',', 'amphiregulin', ',', 'and', 'epigen', ')']\n",
      "['betacellulin']\n",
      "['epiregulin']\n",
      "['transforming', 'growth', 'factor-α']\n",
      "['amphiregulin']\n",
      "['epigen']\n",
      "[(15, 17)]\n",
      "['In', 'this', 'article', ',', 'however', ',', 'we', 'demonstrate', 'that', 'PEPD', 'directly', 'binds', 'to', 'and', 'activates', 'epidermal', 'growth', 'factor', 'receptor', '(', 'EGFR', ')', ',']\n",
      "['epidermal', 'growth', 'factor']\n",
      "[(0, 2)]\n",
      "['Epidermal', 'growth', 'factor', '(', 'EGF', ')', 'family', 'peptides', 'are', 'ligands', 'for', 'the', 'EGF', 'receptor', '(', 'EGFR', ')', '.']\n",
      "['Epidermal', 'growth', 'factor']\n",
      "[(34, 34), (42, 42), (1, 1), (19, 19)]\n",
      "['oluble', 'amphiregulin', '(', 'AR', ')', ',', 'transforming', 'growth', 'factor', 'alpha', '(', 'TGFα', ')', ',', 'neuregulin', '2', 'beta', ',', 'and', 'epigen', 'stimulate', 'greater', 'EGFR', 'coupling', 'to', 'cell', 'proliferation', 'and', 'DNA', 'synthesis', 'than', 'do', 'EGF', ',', 'betacellulin', ',', 'heparin-binding', 'EGF-like', 'growth', 'factor', ',', 'and', 'epiregulin']\n",
      "['betacellulin']\n",
      "['epiregulin']\n",
      "['amphiregulin']\n",
      "['epigen']\n",
      "[(14, 16), (13, 16), (11, 11)]\n",
      "['Here', ',', 'we', 'demonstrate', 'that', 'histamine', 'releases', '2', 'EGFR', 'ligands', ',', 'amphiregulin', 'and', 'heparin-binding', 'epidermal', 'growth', 'factor-like', 'growth', 'factor', '(', 'HB-EGF', ')', ',', 'from', 'airway', 'epithelial', 'cells', '.']\n",
      "['epidermal', 'growth', 'factor-like']\n",
      "['heparin-binding', 'epidermal', 'growth', 'factor-like']\n",
      "['amphiregulin']\n",
      "[(24, 24), (26, 26), (11, 11), (29, 29)]\n",
      "['mammalian', 'EGFR', 'ligands', 'including', 'EGF', ',', 'TGF-α', '(', 'TGFα', ')', ',', 'amphiregulin', '(', 'AREG', ')', ',', 'heparin-binding', 'EGF-like', 'growth', 'factor', '(', 'HB-EGF', ')', ',', 'betacellulin', ',', 'epiregulin', ',', 'and', 'epigen', '.']\n",
      "['betacellulin']\n",
      "['epiregulin']\n",
      "['amphiregulin']\n",
      "['epigen']\n",
      "getting bio word dictionary\n",
      "loading embedding vector for words\n",
      "16455 words found for all 17934 words\n",
      "flatten span list\n",
      "[[8862, 13872, 9843, 16455, 8791, 16455, 15001, 8048, 16212, 15004, 12781, 5290, 16455], [15004, 5554, 6818, 5947, 12781, 16455, 5290, 16455, 8791, 16455, 14531, 1951, 5554, 6818, 5947, 16455, 5286, 16455, 1562, 1516, 16455, 1882, 16455], (1, 3), 'list']\n"
     ]
    }
   ],
   "source": [
    "with open('./BioASQ-trainingDataset5b.txt', encoding='utf8') as f:\n",
    "    data = json.load(f)\n",
    "def getQAPair(data):\n",
    "    qa_pair = []\n",
    "    count = 0\n",
    "    for obj in data['questions']:\n",
    "        if obj['type'] in ['factoid', 'list']:\n",
    "            q = obj['body']\n",
    "            a = obj['exact_answer']\n",
    "            if obj['type'] == 'factoid' and not isinstance(a[0], list):\n",
    "                a = [a]\n",
    "            t = obj['type']\n",
    "            s = []\n",
    "                        \n",
    "            for snippet in obj['snippets']:\n",
    "                snippet = snippet['text']\n",
    "                if snippet not in s:\n",
    "                    s.append(snippet)\n",
    "                else:\n",
    "                    count += 1\n",
    "            if len(s) > 0:\n",
    "                qa_pair.append([q, a, t, s])\n",
    "    print ('duplicate snippet count:', count)\n",
    "    return qa_pair\n",
    "\n",
    "print ('getting qa pair from data')\n",
    "qa_pair = getQAPair(data)\n",
    "print (qa_pair[0])\n",
    "\n",
    "def tokenize(qa_pair):\n",
    "    from nltk.tokenize import word_tokenize\n",
    "    new_qa_pair = []\n",
    "    for (q, a, t, s) in qa_pair:\n",
    "        new_q = word_tokenize(q)\n",
    "        new_a = []\n",
    "        for answer_lst in a:\n",
    "            new_a.append([word_tokenize(answer) for answer in answer_lst])\n",
    "        new_t = t\n",
    "        new_s = [word_tokenize(snippet) for snippet in s]\n",
    "        new_qa_pair.append([new_q, new_a, new_t, new_s])\n",
    "    return new_qa_pair\n",
    "\n",
    "print ('tokenizing qa pairs')\n",
    "qa_pair = tokenize(qa_pair)\n",
    "print (qa_pair[0])\n",
    "\n",
    "def getSpans(a, snippet):\n",
    "    snippet = ' '.join(snippet).lower()\n",
    "    spans = []\n",
    "    for synonym_lst in a:\n",
    "        for synonym in synonym_lst:\n",
    "            synonym = ' '.join(synonym).lower()\n",
    "            synonym = re.escape(synonym)\n",
    "            span = [(m.start(), m.end() - 1) for m in re.finditer(synonym, snippet)]\n",
    "            \n",
    "            span = [(len(snippet[:start].split(' ')) - 1, len(snippet[:end + 1].split(' ')) - 1) for (start, end) in span]\n",
    "            if len(span):\n",
    "                spans += span\n",
    "    return spans\n",
    "\n",
    "def addSpan(qa_pair):\n",
    "    new_qa_pair = []\n",
    "    for (q, a, t, s) in qa_pair:\n",
    "        new_s, new_span_lst = [], []\n",
    "        span_lst = [getSpans(a, snippet) for snippet in s]\n",
    "        for (snippet, spans) in zip(s, span_lst):\n",
    "            if len(spans):\n",
    "                new_s.append(snippet)\n",
    "                new_span_lst.append(spans)\n",
    "        new_qa_pair.append([q, a, t, new_s, new_span_lst])\n",
    "    return new_qa_pair\n",
    "\n",
    "print ('adding spans into the qa_pair')\n",
    "qa_pair = addSpan(qa_pair)\n",
    "print (qa_pair[0])\n",
    "print (qa_pair[0][1])\n",
    "for (snippet, spans) in zip(qa_pair[0][3], qa_pair[0][4]):\n",
    "    print (spans)\n",
    "    print (snippet)\n",
    "    for (start, end) in spans:\n",
    "        print (snippet[start:end + 1])\n",
    "\n",
    "def bioclean(t):\n",
    "    return ' '.join(re.sub('[.,?;*!%^&_+():-\\[\\]{}]', '',\n",
    "                        (t.replace('\"', '').replace('/', '')\n",
    "                         .replace('\\\\', '').replace(\"'\", '')\n",
    "                         .strip().lower()))\n",
    "                    .split())\n",
    "\n",
    "def getWordDict(qa_pair, cleanFunc):\n",
    "    dct = set()\n",
    "    for (q, a, t, s, span_lst) in qa_pair:\n",
    "        for word in q:\n",
    "            dct.add(cleanFunc(word))\n",
    "        for ans_lst in a:\n",
    "            for ans in ans_lst:\n",
    "                for word in ans:\n",
    "                    dct.add(cleanFunc(word))\n",
    "        for snippet in s:\n",
    "            for word in snippet:\n",
    "                dct.add(cleanFunc(word))\n",
    "    return dct\n",
    "\n",
    "print ('getting bio word dictionary')\n",
    "bio_wdict = getWordDict(qa_pair, bioclean)\n",
    "\n",
    "def loadEmbedBioASQ(w_dct, vec_path, type_path):\n",
    "    linenum2word = {}\n",
    "    with open(type_path, encoding='utf8') as f:\n",
    "        for i, line in enumerate(f):\n",
    "            w = line.strip('\\n')\n",
    "            if w in w_dct:\n",
    "                linenum2word[i] = w\n",
    "    print (len(linenum2word), 'words found for all', len(w_dct), 'words')\n",
    "    word_vec = []\n",
    "    word2ind = defaultdict(lambda:len(word2ind))\n",
    "    with open(vec_path) as f:\n",
    "        for i, line in enumerate(f):\n",
    "            if i in linenum2word:\n",
    "                word = linenum2word[i]\n",
    "                vec = np.array([float(x) for x in line.strip('\\n').split()])\n",
    "                word_vec.append(vec)\n",
    "                word2ind[word]\n",
    "    word2ind['<Unk>']\n",
    "    norm1 = np.sum(word_vec, axis=0).mean()\n",
    "    np.random.seed(42)\n",
    "    word_vec.append(norm1*np.random.rand(len(word_vec[0])))\n",
    "    return (np.array(word_vec), word2ind)\n",
    "\n",
    "print ('loading embedding vector for words')\n",
    "(word_vec_bio, word2ind_bio) = loadEmbedBioASQ(bio_wdict, vec_path='./vectors.txt', type_path='./types.txt')\n",
    "ind2word_bio = dict((v,k) for k,v in word2ind_bio.items())\n",
    "\n",
    "def word2Ind(word2ind, qa_pair, cleanFunc):\n",
    "    new_qa_pair = []\n",
    "    for (q, a, t, s, span_lst) in qa_pair:\n",
    "        q_ind = [word2ind.get(cleanFunc(w), word2ind['<Unk>']) for w in q]\n",
    "        s_ind = []\n",
    "        for snippet in s:\n",
    "            s_ind.append([word2ind.get(cleanFunc(w), word2ind['<Unk>']) for w in snippet])\n",
    "        new_qa_pair.append([q_ind, s_ind, span_lst, t])\n",
    "    return new_qa_pair\n",
    "\n",
    "bio_qa_ind = word2Ind(word2ind_bio, qa_pair, bioclean)\n",
    "\n",
    "def flattenSpanList(qa_pair):\n",
    "    new_qa_pair = []\n",
    "    for (q, s, span_lst, t) in qa_pair:\n",
    "        for (snippet, spans) in zip(s, span_lst):\n",
    "            for span in spans:\n",
    "                new_qa_pair.append([q, snippet, span, t])\n",
    "    return new_qa_pair\n",
    "\n",
    "from sklearn.model_selection import train_test_split\n",
    "train, test = train_test_split(bio_qa_ind, test_size=0.2, random_state=32)\n",
    "train, validate = train_test_split(train, test_size=0.2, random_state=32)\n",
    "print ('flatten span list')\n",
    "train_flat = flattenSpanList(train)\n",
    "test_flat = flattenSpanList(test)\n",
    "validate_flat = flattenSpanList(validate)\n",
    "bio_qa_ind_flat = flattenSpanList(bio_qa_ind)\n",
    "print (bio_qa_ind_flat[0])"
   ]
  },
  {
   "cell_type": "code",
   "execution_count": 7,
   "metadata": {
    "collapsed": true
   },
   "outputs": [],
   "source": [
    "np.save('word2ind_bio.npy', dict(word2ind_bio))\n",
    "np.save('ind2word_bio.npy', dict(ind2word_bio))\n",
    "np.save('word_vec_bio.npy', word_vec_bio)"
   ]
  },
  {
   "cell_type": "code",
   "execution_count": 8,
   "metadata": {
    "collapsed": true,
    "scrolled": false
   },
   "outputs": [],
   "source": [
    "train_flat = flattenSpanList(train)\n",
    "test_flat = flattenSpanList(test)\n",
    "validate_flat = flattenSpanList(validate)\n",
    "bio_qa_ind_flat = flattenSpanList(bio_qa_ind)"
   ]
  },
  {
   "cell_type": "code",
   "execution_count": 80,
   "metadata": {},
   "outputs": [
    {
     "data": {
      "text/plain": [
       "(16456, 200)"
      ]
     },
     "execution_count": 80,
     "metadata": {},
     "output_type": "execute_result"
    }
   ],
   "source": [
    "word_vec_bio.shape"
   ]
  },
  {
   "cell_type": "code",
   "execution_count": null,
   "metadata": {
    "collapsed": true
   },
   "outputs": [],
   "source": [
    "# extract question-answer-context pair\n",
    "# lower, tokenization, find span\n",
    "# question-answer-context -> all to list\n",
    "# get word dict in bioclean, punctuation dict, assign an embedding to each punctuation\n",
    "# translate the list token to number including unknown\n",
    "\n",
    "# train, validation, test, set split\n",
    "# get question-answer-context-span_list to question-answer-context-span\n",
    "\n",
    "# evaluation "
   ]
  },
  {
   "cell_type": "code",
   "execution_count": 38,
   "metadata": {},
   "outputs": [
    {
     "name": "stdout",
     "output_type": "stream",
     "text": [
      "15358 words found for all 16626 words\n"
     ]
    }
   ],
   "source": [
    "(word_vec_bio, word2ind_bio) = loadEmbedBioASQ(w_dct, vec_path='./vectors.txt', type_path='./types.txt')"
   ]
  },
  {
   "cell_type": "code",
   "execution_count": 49,
   "metadata": {},
   "outputs": [
    {
     "name": "stdout",
     "output_type": "stream",
     "text": [
      "10540 words found for all 16626 words\n"
     ]
    }
   ],
   "source": [
    "(word_vec_GloVe, word2ind_GloVe) = loadEmbedGloVe(w_dct, './glove.6B.300d.txt')"
   ]
  },
  {
   "cell_type": "code",
   "execution_count": 41,
   "metadata": {},
   "outputs": [
    {
     "data": {
      "text/plain": [
       "200"
      ]
     },
     "execution_count": 41,
     "metadata": {},
     "output_type": "execute_result"
    }
   ],
   "source": [
    "len(word_vec[0])"
   ]
  },
  {
   "cell_type": "code",
   "execution_count": 43,
   "metadata": {},
   "outputs": [
    {
     "data": {
      "text/plain": [
       "(15358, 200)"
      ]
     },
     "execution_count": 43,
     "metadata": {},
     "output_type": "execute_result"
    }
   ],
   "source": [
    "word_vec.shape"
   ]
  },
  {
   "cell_type": "code",
   "execution_count": 27,
   "metadata": {},
   "outputs": [
    {
     "data": {
      "text/plain": [
       "16626"
      ]
     },
     "execution_count": 27,
     "metadata": {},
     "output_type": "execute_result"
    }
   ],
   "source": [
    "len(w_dct)"
   ]
  },
  {
   "cell_type": "code",
   "execution_count": 38,
   "metadata": {},
   "outputs": [
    {
     "data": {
      "text/plain": [
       "count    899.000000\n",
       "mean      14.303671\n",
       "std       12.157930\n",
       "min        0.000000\n",
       "25%        6.000000\n",
       "50%       11.000000\n",
       "75%       19.000000\n",
       "max      121.000000\n",
       "dtype: float64"
      ]
     },
     "execution_count": 38,
     "metadata": {},
     "output_type": "execute_result"
    }
   ],
   "source": [
    "snippet_count.describe()"
   ]
  },
  {
   "cell_type": "code",
   "execution_count": 39,
   "metadata": {},
   "outputs": [
    {
     "data": {
      "text/plain": [
       "486"
      ]
     },
     "execution_count": 39,
     "metadata": {},
     "output_type": "execute_result"
    }
   ],
   "source": [
    "len(qa_pair)"
   ]
  },
  {
   "cell_type": "code",
   "execution_count": 42,
   "metadata": {},
   "outputs": [
    {
     "data": {
      "text/plain": [
       "{'body': 'Is Hirschsprung disease a mendelian or a multifactorial disorder?',\n",
       " 'concepts': ['http://www.disease-ontology.org/api/metadata/DOID:10487',\n",
       "  'http://www.nlm.nih.gov/cgi/mesh/2015/MB_cgi?field=uid&exact=Find+Exact+Term&term=D006627',\n",
       "  'http://www.disease-ontology.org/api/metadata/DOID:11372',\n",
       "  'http://www.nlm.nih.gov/cgi/mesh/2015/MB_cgi?field=uid&exact=Find+Exact+Term&term=D020412'],\n",
       " 'documents': ['http://www.ncbi.nlm.nih.gov/pubmed/15829955',\n",
       "  'http://www.ncbi.nlm.nih.gov/pubmed/15617541',\n",
       "  'http://www.ncbi.nlm.nih.gov/pubmed/12239580',\n",
       "  'http://www.ncbi.nlm.nih.gov/pubmed/8896569',\n",
       "  'http://www.ncbi.nlm.nih.gov/pubmed/6650562',\n",
       "  'http://www.ncbi.nlm.nih.gov/pubmed/20598273',\n",
       "  'http://www.ncbi.nlm.nih.gov/pubmed/21995290',\n",
       "  'http://www.ncbi.nlm.nih.gov/pubmed/23001136'],\n",
       " 'id': '55031181e9bde69634000014',\n",
       " 'ideal_answer': [\"Coding sequence mutations in RET, GDNF, EDNRB, EDN3, and SOX10 are involved in the development of Hirschsprung disease. The majority of these genes was shown to be related to Mendelian syndromic forms of Hirschsprung's disease, whereas the non-Mendelian inheritance of sporadic non-syndromic Hirschsprung disease proved to be complex; involvement of multiple loci was demonstrated in a multiplicative model.\"],\n",
       " 'snippets': [{'beginSection': 'abstract',\n",
       "   'document': 'http://www.ncbi.nlm.nih.gov/pubmed/15829955',\n",
       "   'endSection': 'abstract',\n",
       "   'offsetInBeginSection': 131,\n",
       "   'offsetInEndSection': 358,\n",
       "   'text': 'Hirschsprung disease (HSCR) is a multifactorial, non-mendelian disorder in which rare high-penetrance coding sequence mutations in the receptor tyrosine kinase RET contribute to risk in combination with mutations at other genes'},\n",
       "  {'beginSection': 'abstract',\n",
       "   'document': 'http://www.ncbi.nlm.nih.gov/pubmed/15617541',\n",
       "   'endSection': 'abstract',\n",
       "   'offsetInBeginSection': 554,\n",
       "   'offsetInEndSection': 992,\n",
       "   'text': \"In this study, we review the identification of genes and loci involved in the non-syndromic common form and syndromic Mendelian forms of Hirschsprung's disease. The majority of the identified genes are related to Mendelian syndromic forms of Hirschsprung's disease. The non-Mendelian inheritance of sporadic non-syndromic Hirschsprung's disease proved to be complex; involvement of multiple loci was demonstrated in a multiplicative model\"},\n",
       "  {'beginSection': 'abstract',\n",
       "   'document': 'http://www.ncbi.nlm.nih.gov/pubmed/12239580',\n",
       "   'endSection': 'abstract',\n",
       "   'offsetInBeginSection': 397,\n",
       "   'offsetInEndSection': 939,\n",
       "   'text': 'Coding sequence mutations in e.g. RET, GDNF, EDNRB, EDN3, and SOX10 lead to long-segment (L-HSCR) as well as syndromic HSCR but fail to explain the transmission of the much more common short-segment form (S-HSCR). Furthermore, mutations in the RET gene are responsible for approximately half of the familial and some sporadic cases, strongly suggesting, on the one hand, the importance of non-coding variations and, on the other hand, that additional genes involved in the development of the enteric nervous system still await their discovery'},\n",
       "  {'beginSection': 'abstract',\n",
       "   'document': 'http://www.ncbi.nlm.nih.gov/pubmed/12239580',\n",
       "   'endSection': 'abstract',\n",
       "   'offsetInBeginSection': 941,\n",
       "   'offsetInEndSection': 1279,\n",
       "   'text': 'For almost all of the identified HSCR genes incomplete penetrance of the HSCR phenotype has been reported, probably due to modifier loci. Therefore, HSCR has become a model for a complex oligo-/polygenic disorder in which the relationship between different genes creating a non-mendelian inheritance pattern still remains to be elucidated'},\n",
       "  {'beginSection': 'abstract',\n",
       "   'document': 'http://www.ncbi.nlm.nih.gov/pubmed/15829955',\n",
       "   'endSection': 'abstract',\n",
       "   'offsetInBeginSection': 129,\n",
       "   'offsetInEndSection': 358,\n",
       "   'text': ' Hirschsprung disease (HSCR) is a multifactorial, non-mendelian disorder in which rare high-penetrance coding sequence mutations in the receptor tyrosine kinase RET contribute to risk in combination with mutations at other genes.'},\n",
       "  {'beginSection': 'abstract',\n",
       "   'document': 'http://www.ncbi.nlm.nih.gov/pubmed/6650562',\n",
       "   'endSection': 'abstract',\n",
       "   'offsetInBeginSection': 851,\n",
       "   'offsetInEndSection': 1007,\n",
       "   'text': ' The inheritance of Hirschsprung disease is generally consistent with sex-modified multifactorial inheritance with a lower threshold of expression in males.'},\n",
       "  {'beginSection': 'abstract',\n",
       "   'document': 'http://www.ncbi.nlm.nih.gov/pubmed/15829955',\n",
       "   'endSection': 'abstract',\n",
       "   'offsetInBeginSection': 131,\n",
       "   'offsetInEndSection': 359,\n",
       "   'text': 'Hirschsprung disease (HSCR) is a multifactorial, non-mendelian disorder in which rare high-penetrance coding sequence mutations in the receptor tyrosine kinase RET contribute to risk in combination with mutations at other genes.'},\n",
       "  {'beginSection': 'title',\n",
       "   'document': 'http://www.ncbi.nlm.nih.gov/pubmed/20598273',\n",
       "   'endSection': 'title',\n",
       "   'offsetInBeginSection': 0,\n",
       "   'offsetInEndSection': 131,\n",
       "   'text': 'Differential contributions of rare and common, coding and noncoding Ret mutations to multifactorial Hirschsprung disease liability.'},\n",
       "  {'beginSection': 'abstract',\n",
       "   'document': 'http://www.ncbi.nlm.nih.gov/pubmed/21995290',\n",
       "   'endSection': 'abstract',\n",
       "   'offsetInBeginSection': 0,\n",
       "   'offsetInEndSection': 210,\n",
       "   'text': 'BACKGROUND: RET is the major gene associated to Hirschsprung disease (HSCR) with differential contributions of its rare and common, coding and noncoding mutations to the multifactorial nature of this pathology.'},\n",
       "  {'beginSection': 'abstract',\n",
       "   'document': 'http://www.ncbi.nlm.nih.gov/pubmed/15829955',\n",
       "   'endSection': 'abstract',\n",
       "   'offsetInBeginSection': 131,\n",
       "   'offsetInEndSection': 358,\n",
       "   'text': 'Hirschsprung disease (HSCR) is a multifactorial, non-mendelian disorder in which rare high-penetrance coding sequence mutations in the receptor tyrosine kinase RET contribute to risk in combination with mutations at other genes'},\n",
       "  {'beginSection': 'abstract',\n",
       "   'document': 'http://www.ncbi.nlm.nih.gov/pubmed/15617541',\n",
       "   'endSection': 'abstract',\n",
       "   'offsetInBeginSection': 554,\n",
       "   'offsetInEndSection': 992,\n",
       "   'text': \"In this study, we review the identification of genes and loci involved in the non-syndromic common form and syndromic Mendelian forms of Hirschsprung's disease. The majority of the identified genes are related to Mendelian syndromic forms of Hirschsprung's disease. The non-Mendelian inheritance of sporadic non-syndromic Hirschsprung's disease proved to be complex; involvement of multiple loci was demonstrated in a multiplicative model\"},\n",
       "  {'beginSection': 'abstract',\n",
       "   'document': 'http://www.ncbi.nlm.nih.gov/pubmed/15829955',\n",
       "   'endSection': 'abstract',\n",
       "   'offsetInBeginSection': 131,\n",
       "   'offsetInEndSection': 359,\n",
       "   'text': 'Hirschsprung disease (HSCR) is a multifactorial, non-mendelian disorder in which rare high-penetrance coding sequence mutations in the receptor tyrosine kinase RET contribute to risk in combination with mutations at other genes.'},\n",
       "  {'beginSection': 'abstract',\n",
       "   'document': 'http://www.ncbi.nlm.nih.gov/pubmed/15858239',\n",
       "   'endSection': 'abstract',\n",
       "   'offsetInBeginSection': 151,\n",
       "   'offsetInEndSection': 376,\n",
       "   'text': 'In the etiology of Hirschsprung disease various genes play a role; these are: RET, EDNRB, GDNF, EDN3 and SOX10, NTN3, ECE1, Mutations in these genes may result in dominant, recessive or multifactorial patterns of inheritance.'},\n",
       "  {'beginSection': 'abstract',\n",
       "   'document': 'http://www.ncbi.nlm.nih.gov/pubmed/15829955',\n",
       "   'endSection': 'abstract',\n",
       "   'offsetInBeginSection': 131,\n",
       "   'offsetInEndSection': 358,\n",
       "   'text': 'Hirschsprung disease (HSCR) is a multifactorial, non-mendelian disorder in which rare high-penetrance coding sequence mutations in the receptor tyrosine kinase RET contribute to risk in combination with mutations at other genes'},\n",
       "  {'beginSection': 'abstract',\n",
       "   'document': 'http://www.ncbi.nlm.nih.gov/pubmed/15829955',\n",
       "   'endSection': 'abstract',\n",
       "   'offsetInBeginSection': 131,\n",
       "   'offsetInEndSection': 358,\n",
       "   'text': 'Hirschsprung disease (HSCR) is a multifactorial, non-mendelian disorder in which rare high-penetrance coding sequence mutations in the receptor tyrosine kinase RET contribute to risk in combination with mutations at other genes'},\n",
       "  {'beginSection': 'title',\n",
       "   'document': 'http://www.ncbi.nlm.nih.gov/pubmed/23001136',\n",
       "   'endSection': 'title',\n",
       "   'offsetInBeginSection': 0,\n",
       "   'offsetInEndSection': 83,\n",
       "   'text': \"Chromosomal and related Mendelian syndromes associated with Hirschsprung's disease.\"},\n",
       "  {'beginSection': 'abstract',\n",
       "   'document': 'http://www.ncbi.nlm.nih.gov/pubmed/15617541',\n",
       "   'endSection': 'abstract',\n",
       "   'offsetInBeginSection': 715,\n",
       "   'offsetInEndSection': 818,\n",
       "   'text': \"The majority of the identified genes are related to Mendelian syndromic forms of Hirschsprung's disease\"},\n",
       "  {'beginSection': 'abstract',\n",
       "   'document': 'http://www.ncbi.nlm.nih.gov/pubmed/15829955',\n",
       "   'endSection': 'abstract',\n",
       "   'offsetInBeginSection': 131,\n",
       "   'offsetInEndSection': 358,\n",
       "   'text': 'Hirschsprung disease (HSCR) is a multifactorial, non-mendelian disorder in which rare high-penetrance coding sequence mutations in the receptor tyrosine kinase RET contribute to risk in combination with mutations at other genes'},\n",
       "  {'beginSection': 'abstract',\n",
       "   'document': 'http://www.ncbi.nlm.nih.gov/pubmed/15858239',\n",
       "   'endSection': 'abstract',\n",
       "   'offsetInBeginSection': 151,\n",
       "   'offsetInEndSection': 375,\n",
       "   'text': 'In the etiology of Hirschsprung disease various genes play a role; these are: RET, EDNRB, GDNF, EDN3 and SOX10, NTN3, ECE1, Mutations in these genes may result in dominant, recessive or multifactorial patterns of inheritance'},\n",
       "  {'beginSection': 'title',\n",
       "   'document': 'http://www.ncbi.nlm.nih.gov/pubmed/23001136',\n",
       "   'endSection': 'title',\n",
       "   'offsetInBeginSection': 0,\n",
       "   'offsetInEndSection': 83,\n",
       "   'text': \"Chromosomal and related Mendelian syndromes associated with Hirschsprung's disease.\"},\n",
       "  {'beginSection': 'abstract',\n",
       "   'document': 'http://www.ncbi.nlm.nih.gov/pubmed/15617541',\n",
       "   'endSection': 'abstract',\n",
       "   'offsetInBeginSection': 715,\n",
       "   'offsetInEndSection': 818,\n",
       "   'text': \"The majority of the identified genes are related to Mendelian syndromic forms of Hirschsprung's disease\"},\n",
       "  {'beginSection': 'abstract',\n",
       "   'document': 'http://www.ncbi.nlm.nih.gov/pubmed/15829955',\n",
       "   'endSection': 'abstract',\n",
       "   'offsetInBeginSection': 131,\n",
       "   'offsetInEndSection': 358,\n",
       "   'text': 'Hirschsprung disease (HSCR) is a multifactorial, non-mendelian disorder in which rare high-penetrance coding sequence mutations in the receptor tyrosine kinase RET contribute to risk in combination with mutations at other genes'},\n",
       "  {'beginSection': 'abstract',\n",
       "   'document': 'http://www.ncbi.nlm.nih.gov/pubmed/8896569',\n",
       "   'endSection': 'abstract',\n",
       "   'offsetInBeginSection': 417,\n",
       "   'offsetInEndSection': 615,\n",
       "   'text': 'On the basis of a skewed sex-ratio (M/F = 4/1) and a risk to relatives much higher than the incidence in the general population, HSCR has long been regarded as a sex-modified multifactorial disorder'},\n",
       "  {'beginSection': 'abstract',\n",
       "   'document': 'http://www.ncbi.nlm.nih.gov/pubmed/6650562',\n",
       "   'endSection': 'abstract',\n",
       "   'offsetInBeginSection': 858,\n",
       "   'offsetInEndSection': 1012,\n",
       "   'text': 'The inheritance of Hirschsprung disease is generally consistent with sex-modified multifactorial inheritance with a lower threshold of expression in males'},\n",
       "  {'beginSection': 'abstract',\n",
       "   'document': 'http://www.ncbi.nlm.nih.gov/pubmed/15858239',\n",
       "   'endSection': 'abstract',\n",
       "   'offsetInBeginSection': 151,\n",
       "   'offsetInEndSection': 375,\n",
       "   'text': 'In the etiology of Hirschsprung disease various genes play a role; these are: RET, EDNRB, GDNF, EDN3 and SOX10, NTN3, ECE1, Mutations in these genes may result in dominant, recessive or multifactorial patterns of inheritance'},\n",
       "  {'beginSection': 'title',\n",
       "   'document': 'http://www.ncbi.nlm.nih.gov/pubmed/23001136',\n",
       "   'endSection': 'title',\n",
       "   'offsetInBeginSection': 0,\n",
       "   'offsetInEndSection': 83,\n",
       "   'text': \"Chromosomal and related Mendelian syndromes associated with Hirschsprung's disease.\"},\n",
       "  {'beginSection': 'abstract',\n",
       "   'document': 'http://www.ncbi.nlm.nih.gov/pubmed/15617541',\n",
       "   'endSection': 'abstract',\n",
       "   'offsetInBeginSection': 715,\n",
       "   'offsetInEndSection': 818,\n",
       "   'text': \"The majority of the identified genes are related to Mendelian syndromic forms of Hirschsprung's disease\"},\n",
       "  {'beginSection': 'abstract',\n",
       "   'document': 'http://www.ncbi.nlm.nih.gov/pubmed/15617541',\n",
       "   'endSection': 'abstract',\n",
       "   'offsetInBeginSection': 820,\n",
       "   'offsetInEndSection': 992,\n",
       "   'text': \"The non-Mendelian inheritance of sporadic non-syndromic Hirschsprung's disease proved to be complex; involvement of multiple loci was demonstrated in a multiplicative model\"},\n",
       "  {'beginSection': 'abstract',\n",
       "   'document': 'http://www.ncbi.nlm.nih.gov/pubmed/15829955',\n",
       "   'endSection': 'abstract',\n",
       "   'offsetInBeginSection': 131,\n",
       "   'offsetInEndSection': 358,\n",
       "   'text': 'Hirschsprung disease (HSCR) is a multifactorial, non-mendelian disorder in which rare high-penetrance coding sequence mutations in the receptor tyrosine kinase RET contribute to risk in combination with mutations at other genes'},\n",
       "  {'beginSection': 'title',\n",
       "   'document': 'http://www.ncbi.nlm.nih.gov/pubmed/23001136',\n",
       "   'endSection': 'title',\n",
       "   'offsetInBeginSection': 0,\n",
       "   'offsetInEndSection': 83,\n",
       "   'text': \"Chromosomal and related Mendelian syndromes associated with Hirschsprung's disease.\"}],\n",
       " 'triples': [],\n",
       " 'type': 'summary'}"
      ]
     },
     "execution_count": 42,
     "metadata": {},
     "output_type": "execute_result"
    }
   ],
   "source": [
    "data['questions'][0]"
   ]
  },
  {
   "cell_type": "code",
   "execution_count": null,
   "metadata": {
    "collapsed": true
   },
   "outputs": [],
   "source": [
    "#preprocessing\n",
    "with open('./types.txt') as ftype:\n",
    "    for line in ftype:\n",
    "        line = line.strip('\\n')"
   ]
  },
  {
   "cell_type": "code",
   "execution_count": 27,
   "metadata": {},
   "outputs": [
    {
     "name": "stdout",
     "output_type": "stream",
     "text": [
      "1\n",
      "2\n"
     ]
    },
    {
     "ename": "RuntimeError",
     "evalue": "Trying to backward through the graph a second time, but the buffers have already been freed. Specify retain_graph=True when calling backward the first time.",
     "output_type": "error",
     "traceback": [
      "\u001b[1;31m---------------------------------------------------------------------------\u001b[0m",
      "\u001b[1;31mRuntimeError\u001b[0m                              Traceback (most recent call last)",
      "\u001b[1;32m<ipython-input-27-34c5248c3ff5>\u001b[0m in \u001b[0;36m<module>\u001b[1;34m()\u001b[0m\n\u001b[0;32m     30\u001b[0m         \u001b[0my\u001b[0m \u001b[1;33m=\u001b[0m \u001b[0mmodel\u001b[0m\u001b[1;33m(\u001b[0m\u001b[0mq\u001b[0m\u001b[1;33m,\u001b[0m \u001b[0msnippet\u001b[0m\u001b[1;33m)\u001b[0m\u001b[1;33m\u001b[0m\u001b[0m\n\u001b[0;32m     31\u001b[0m         \u001b[0mloss_val\u001b[0m \u001b[1;33m=\u001b[0m \u001b[0mloss\u001b[0m\u001b[1;33m(\u001b[0m\u001b[0my\u001b[0m\u001b[1;33m,\u001b[0m \u001b[0mautograd\u001b[0m\u001b[1;33m.\u001b[0m\u001b[0mVariable\u001b[0m\u001b[1;33m(\u001b[0m\u001b[0mtorch\u001b[0m\u001b[1;33m.\u001b[0m\u001b[0mcuda\u001b[0m\u001b[1;33m.\u001b[0m\u001b[0mLongTensor\u001b[0m\u001b[1;33m(\u001b[0m\u001b[1;33m[\u001b[0m\u001b[0mspan\u001b[0m\u001b[1;33m[\u001b[0m\u001b[1;36m0\u001b[0m\u001b[1;33m]\u001b[0m\u001b[1;33m*\u001b[0m\u001b[0mlen\u001b[0m\u001b[1;33m(\u001b[0m\u001b[0msnippet\u001b[0m\u001b[1;33m)\u001b[0m \u001b[1;33m+\u001b[0m \u001b[0mspan\u001b[0m\u001b[1;33m[\u001b[0m\u001b[1;36m1\u001b[0m\u001b[1;33m]\u001b[0m\u001b[1;33m]\u001b[0m\u001b[1;33m)\u001b[0m\u001b[1;33m)\u001b[0m\u001b[1;33m)\u001b[0m\u001b[1;33m\u001b[0m\u001b[0m\n\u001b[1;32m---> 32\u001b[1;33m         \u001b[0mloss_val\u001b[0m\u001b[1;33m.\u001b[0m\u001b[0mbackward\u001b[0m\u001b[1;33m(\u001b[0m\u001b[1;33m)\u001b[0m\u001b[1;33m\u001b[0m\u001b[0m\n\u001b[0m\u001b[0;32m     33\u001b[0m         \u001b[0moptimizer\u001b[0m\u001b[1;33m.\u001b[0m\u001b[0mstep\u001b[0m\u001b[1;33m(\u001b[0m\u001b[1;33m)\u001b[0m\u001b[1;33m\u001b[0m\u001b[0m\n\u001b[0;32m     34\u001b[0m         \u001b[1;31m#train_loss += loss_val.data[0]\u001b[0m\u001b[1;33m\u001b[0m\u001b[1;33m\u001b[0m\u001b[0m\n",
      "\u001b[1;32mD:\\Users\\star\\Anaconda3\\lib\\site-packages\\torch\\autograd\\variable.py\u001b[0m in \u001b[0;36mbackward\u001b[1;34m(self, gradient, retain_graph, create_graph, retain_variables)\u001b[0m\n\u001b[0;32m    165\u001b[0m                 \u001b[0mVariable\u001b[0m\u001b[1;33m.\u001b[0m\u001b[1;33m\u001b[0m\u001b[0m\n\u001b[0;32m    166\u001b[0m         \"\"\"\n\u001b[1;32m--> 167\u001b[1;33m         \u001b[0mtorch\u001b[0m\u001b[1;33m.\u001b[0m\u001b[0mautograd\u001b[0m\u001b[1;33m.\u001b[0m\u001b[0mbackward\u001b[0m\u001b[1;33m(\u001b[0m\u001b[0mself\u001b[0m\u001b[1;33m,\u001b[0m \u001b[0mgradient\u001b[0m\u001b[1;33m,\u001b[0m \u001b[0mretain_graph\u001b[0m\u001b[1;33m,\u001b[0m \u001b[0mcreate_graph\u001b[0m\u001b[1;33m,\u001b[0m \u001b[0mretain_variables\u001b[0m\u001b[1;33m)\u001b[0m\u001b[1;33m\u001b[0m\u001b[0m\n\u001b[0m\u001b[0;32m    168\u001b[0m \u001b[1;33m\u001b[0m\u001b[0m\n\u001b[0;32m    169\u001b[0m     \u001b[1;32mdef\u001b[0m \u001b[0mregister_hook\u001b[0m\u001b[1;33m(\u001b[0m\u001b[0mself\u001b[0m\u001b[1;33m,\u001b[0m \u001b[0mhook\u001b[0m\u001b[1;33m)\u001b[0m\u001b[1;33m:\u001b[0m\u001b[1;33m\u001b[0m\u001b[0m\n",
      "\u001b[1;32mD:\\Users\\star\\Anaconda3\\lib\\site-packages\\torch\\autograd\\__init__.py\u001b[0m in \u001b[0;36mbackward\u001b[1;34m(variables, grad_variables, retain_graph, create_graph, retain_variables)\u001b[0m\n\u001b[0;32m     97\u001b[0m \u001b[1;33m\u001b[0m\u001b[0m\n\u001b[0;32m     98\u001b[0m     Variable._execution_engine.run_backward(\n\u001b[1;32m---> 99\u001b[1;33m         variables, grad_variables, retain_graph)\n\u001b[0m\u001b[0;32m    100\u001b[0m \u001b[1;33m\u001b[0m\u001b[0m\n\u001b[0;32m    101\u001b[0m \u001b[1;33m\u001b[0m\u001b[0m\n",
      "\u001b[1;32mD:\\Users\\star\\Anaconda3\\lib\\site-packages\\torch\\autograd\\function.py\u001b[0m in \u001b[0;36m_do_backward\u001b[1;34m(self, gradients, retain_variables)\u001b[0m\n\u001b[0;32m    333\u001b[0m     \u001b[1;32mdef\u001b[0m \u001b[0m_do_backward\u001b[0m\u001b[1;33m(\u001b[0m\u001b[0mself\u001b[0m\u001b[1;33m,\u001b[0m \u001b[0mgradients\u001b[0m\u001b[1;33m,\u001b[0m \u001b[0mretain_variables\u001b[0m\u001b[1;33m)\u001b[0m\u001b[1;33m:\u001b[0m\u001b[1;33m\u001b[0m\u001b[0m\n\u001b[0;32m    334\u001b[0m         \u001b[0mself\u001b[0m\u001b[1;33m.\u001b[0m\u001b[0mretain_variables\u001b[0m \u001b[1;33m=\u001b[0m \u001b[0mretain_variables\u001b[0m\u001b[1;33m\u001b[0m\u001b[0m\n\u001b[1;32m--> 335\u001b[1;33m         \u001b[0mresult\u001b[0m \u001b[1;33m=\u001b[0m \u001b[0msuper\u001b[0m\u001b[1;33m(\u001b[0m\u001b[0mNestedIOFunction\u001b[0m\u001b[1;33m,\u001b[0m \u001b[0mself\u001b[0m\u001b[1;33m)\u001b[0m\u001b[1;33m.\u001b[0m\u001b[0m_do_backward\u001b[0m\u001b[1;33m(\u001b[0m\u001b[0mgradients\u001b[0m\u001b[1;33m,\u001b[0m \u001b[0mretain_variables\u001b[0m\u001b[1;33m)\u001b[0m\u001b[1;33m\u001b[0m\u001b[0m\n\u001b[0m\u001b[0;32m    336\u001b[0m         \u001b[1;32mif\u001b[0m \u001b[1;32mnot\u001b[0m \u001b[0mretain_variables\u001b[0m\u001b[1;33m:\u001b[0m\u001b[1;33m\u001b[0m\u001b[0m\n\u001b[0;32m    337\u001b[0m             \u001b[1;32mdel\u001b[0m \u001b[0mself\u001b[0m\u001b[1;33m.\u001b[0m\u001b[0m_nested_output\u001b[0m\u001b[1;33m\u001b[0m\u001b[0m\n",
      "\u001b[1;32mD:\\Users\\star\\Anaconda3\\lib\\site-packages\\torch\\autograd\\function.py\u001b[0m in \u001b[0;36mbackward\u001b[1;34m(self, *gradients)\u001b[0m\n\u001b[0;32m    341\u001b[0m     \u001b[1;32mdef\u001b[0m \u001b[0mbackward\u001b[0m\u001b[1;33m(\u001b[0m\u001b[0mself\u001b[0m\u001b[1;33m,\u001b[0m \u001b[1;33m*\u001b[0m\u001b[0mgradients\u001b[0m\u001b[1;33m)\u001b[0m\u001b[1;33m:\u001b[0m\u001b[1;33m\u001b[0m\u001b[0m\n\u001b[0;32m    342\u001b[0m         \u001b[0mnested_gradients\u001b[0m \u001b[1;33m=\u001b[0m \u001b[0m_unflatten\u001b[0m\u001b[1;33m(\u001b[0m\u001b[0mgradients\u001b[0m\u001b[1;33m,\u001b[0m \u001b[0mself\u001b[0m\u001b[1;33m.\u001b[0m\u001b[0m_nested_output\u001b[0m\u001b[1;33m)\u001b[0m\u001b[1;33m\u001b[0m\u001b[0m\n\u001b[1;32m--> 343\u001b[1;33m         \u001b[0mresult\u001b[0m \u001b[1;33m=\u001b[0m \u001b[0mself\u001b[0m\u001b[1;33m.\u001b[0m\u001b[0mbackward_extended\u001b[0m\u001b[1;33m(\u001b[0m\u001b[1;33m*\u001b[0m\u001b[0mnested_gradients\u001b[0m\u001b[1;33m)\u001b[0m\u001b[1;33m\u001b[0m\u001b[0m\n\u001b[0m\u001b[0;32m    344\u001b[0m         \u001b[1;32mreturn\u001b[0m \u001b[0mtuple\u001b[0m\u001b[1;33m(\u001b[0m\u001b[0m_iter_None_tensors\u001b[0m\u001b[1;33m(\u001b[0m\u001b[0mresult\u001b[0m\u001b[1;33m)\u001b[0m\u001b[1;33m)\u001b[0m\u001b[1;33m\u001b[0m\u001b[0m\n\u001b[0;32m    345\u001b[0m \u001b[1;33m\u001b[0m\u001b[0m\n",
      "\u001b[1;32mD:\\Users\\star\\Anaconda3\\lib\\site-packages\\torch\\nn\\_functions\\rnn.py\u001b[0m in \u001b[0;36mbackward_extended\u001b[1;34m(self, grad_output, grad_hy)\u001b[0m\n\u001b[0;32m    298\u001b[0m \u001b[1;33m\u001b[0m\u001b[0m\n\u001b[0;32m    299\u001b[0m     \u001b[1;32mdef\u001b[0m \u001b[0mbackward_extended\u001b[0m\u001b[1;33m(\u001b[0m\u001b[0mself\u001b[0m\u001b[1;33m,\u001b[0m \u001b[0mgrad_output\u001b[0m\u001b[1;33m,\u001b[0m \u001b[0mgrad_hy\u001b[0m\u001b[1;33m)\u001b[0m\u001b[1;33m:\u001b[0m\u001b[1;33m\u001b[0m\u001b[0m\n\u001b[1;32m--> 300\u001b[1;33m         \u001b[0minput\u001b[0m\u001b[1;33m,\u001b[0m \u001b[0mhx\u001b[0m\u001b[1;33m,\u001b[0m \u001b[0mweight\u001b[0m\u001b[1;33m,\u001b[0m \u001b[0moutput\u001b[0m \u001b[1;33m=\u001b[0m \u001b[0mself\u001b[0m\u001b[1;33m.\u001b[0m\u001b[0msaved_tensors\u001b[0m\u001b[1;33m\u001b[0m\u001b[0m\n\u001b[0m\u001b[0;32m    301\u001b[0m         \u001b[0minput\u001b[0m \u001b[1;33m=\u001b[0m \u001b[0minput\u001b[0m\u001b[1;33m.\u001b[0m\u001b[0mcontiguous\u001b[0m\u001b[1;33m(\u001b[0m\u001b[1;33m)\u001b[0m\u001b[1;33m\u001b[0m\u001b[0m\n\u001b[0;32m    302\u001b[0m \u001b[1;33m\u001b[0m\u001b[0m\n",
      "\u001b[1;32mD:\\Users\\star\\Anaconda3\\lib\\site-packages\\torch\\autograd\\function.py\u001b[0m in \u001b[0;36msaved_tensors\u001b[1;34m(self)\u001b[0m\n\u001b[0;32m    359\u001b[0m     \u001b[1;33m@\u001b[0m\u001b[0mproperty\u001b[0m\u001b[1;33m\u001b[0m\u001b[0m\n\u001b[0;32m    360\u001b[0m     \u001b[1;32mdef\u001b[0m \u001b[0msaved_tensors\u001b[0m\u001b[1;33m(\u001b[0m\u001b[0mself\u001b[0m\u001b[1;33m)\u001b[0m\u001b[1;33m:\u001b[0m\u001b[1;33m\u001b[0m\u001b[0m\n\u001b[1;32m--> 361\u001b[1;33m         \u001b[0mflat_tensors\u001b[0m \u001b[1;33m=\u001b[0m \u001b[0msuper\u001b[0m\u001b[1;33m(\u001b[0m\u001b[0mNestedIOFunction\u001b[0m\u001b[1;33m,\u001b[0m \u001b[0mself\u001b[0m\u001b[1;33m)\u001b[0m\u001b[1;33m.\u001b[0m\u001b[0msaved_tensors\u001b[0m\u001b[1;33m\u001b[0m\u001b[0m\n\u001b[0m\u001b[0;32m    362\u001b[0m         \u001b[1;32mreturn\u001b[0m \u001b[0m_unflatten\u001b[0m\u001b[1;33m(\u001b[0m\u001b[0mflat_tensors\u001b[0m\u001b[1;33m,\u001b[0m \u001b[0mself\u001b[0m\u001b[1;33m.\u001b[0m\u001b[0m_to_save_nested\u001b[0m\u001b[1;33m)\u001b[0m\u001b[1;33m\u001b[0m\u001b[0m\n\u001b[0;32m    363\u001b[0m \u001b[1;33m\u001b[0m\u001b[0m\n",
      "\u001b[1;31mRuntimeError\u001b[0m: Trying to backward through the graph a second time, but the buffers have already been freed. Specify retain_graph=True when calling backward the first time."
     ]
    }
   ],
   "source": [
    "from torch.utils.data import DataLoader\n",
    "import time\n",
    "torch.manual_seed(1)\n",
    "\n",
    "train_dataloader = DataLoader(train_flat, shuffle=True, batch_size=1)\n",
    "validate_dataloader = DataLoader(validate_flat, shuffle=True)\n",
    "model = BaselineModel(hidden_dim=200, embeddings=word_vec_bio)\n",
    "model.cuda()\n",
    "loss = torch.nn.NLLLoss()\n",
    "optimizer = torch.optim.SGD(model.parameters(), lr=1e-4, momentum=0.9)\n",
    "for epoch in range(10):\n",
    "    train_loss = 0\n",
    "    count = 0\n",
    "    start = time.time()\n",
    "    for (q, snippet, span, t) in train_flat:\n",
    "        count += 1\n",
    "        print (count)\n",
    "        if count % 100 == 0:\n",
    "            print (count, 'th cases')\n",
    "            print (time.time() - start)\n",
    "            \n",
    "            validate_loss = 0\n",
    "            for (q, snippet, span, t) in validate_flat[:100]:\n",
    "                y = model(q, snippet)\n",
    "                loss_val = loss(y, autograd.Variable(torch.cuda.LongTensor([span[0]*len(snippet) + span[1]]))).data[0]\n",
    "            validate_loss += loss_val\n",
    "            print ('validation loss:', validate_loss)\n",
    "        \n",
    "        optimizer.zero_grad()\n",
    "        y = model(q, snippet)\n",
    "        loss_val = loss(y, autograd.Variable(torch.cuda.LongTensor([span[0]*len(snippet) + span[1]])))\n",
    "        loss_val.backward()\n",
    "        optimizer.step()\n",
    "        train_loss += loss_val.data[0]\n",
    "        \n",
    "    print ('epoch:', epoch, 'train loss:', train_loss)\n",
    "    \n"
   ]
  },
  {
   "cell_type": "code",
   "execution_count": 17,
   "metadata": {},
   "outputs": [
    {
     "data": {
      "text/plain": [
       "array([-0.00093584], dtype=float32)"
      ]
     },
     "execution_count": 17,
     "metadata": {},
     "output_type": "execute_result"
    }
   ],
   "source": [
    "loss_val.data.cpu().numpy()"
   ]
  },
  {
   "cell_type": "markdown",
   "metadata": {
    "collapsed": true
   },
   "source": [
    "## model"
   ]
  },
  {
   "cell_type": "code",
   "execution_count": 20,
   "metadata": {
    "collapsed": true
   },
   "outputs": [],
   "source": [
    "import torch\n",
    "import torch.autograd as autograd\n",
    "import torch.nn as nn\n",
    "import torch.nn.functional as F\n",
    "import torch.optim as optim\n",
    "torch.manual_seed(1)\n",
    "\n",
    "class BaselineModel(nn.Module):\n",
    "    def __init__(self, hidden_dim, embeddings, batch_size=1, num_layers=1):\n",
    "        super(BaselineModel, self).__init__()\n",
    "        self.batch_size = batch_size\n",
    "        self.num_layers = num_layers\n",
    "        self.hidden_dim = hidden_dim\n",
    "\n",
    "        vocab_size = embeddings.shape[0]\n",
    "        embedding_dim = embeddings.shape[1]\n",
    "        self.word_embeddings = nn.Embedding(vocab_size, embedding_dim)\n",
    "        self.word_embeddings.weight = nn.Parameter(torch.FloatTensor(embeddings))\n",
    "        \n",
    "        self.qlstm = nn.LSTM(embedding_dim, hidden_dim, bidirectional=True)\n",
    "        self.clstm = nn.LSTM(embedding_dim, hidden_dim, bidirectional=True)\n",
    "\n",
    "        # The linear layer that maps from hidden state space to tag space\n",
    "        self.qhidden = self.initHidden()\n",
    "        self.chidden = self.initHidden()\n",
    "        \n",
    "        self.out2end = nn.Linear(2*hidden_dim*2, 2*hidden_dim*2)\n",
    "        self.out2start = nn.Linear(2*hidden_dim*2, 1)\n",
    "\n",
    "        \n",
    "    def attnCombine(self, qlstm_out, clstm_out):\n",
    "        # (batch_size, hidden_size*num_directions, qseq_len)\n",
    "        qlstm_out_tmp = qlstm_out.permute(1, 2, 0)\n",
    "        # (batch_size, cseq_len, hidden_size*num_directions)\n",
    "        clstm_out_tmp = clstm_out.permute(1, 0, 2)\n",
    "        # (batch_size, cseq_len, qseq_len)\n",
    "        attn_weights = F.softmax(torch.bmm(clstm_out_tmp, qlstm_out_tmp), dim=2)\n",
    "        # (batch_size, qseq_len, hidden_size*num_directions)\n",
    "        qlstm_out_tmp2 = qlstm_out.permute(1, 0, 2)\n",
    "        # (batch_size, cseq_len, hidden_size*num_directions)\n",
    "        attn_vec = torch.bmm(attn_weights, qlstm_out_tmp2)\n",
    "        clstm_attn_out = torch.cat((clstm_out_tmp, attn_vec), dim=2)\n",
    "        # (batch_size, cseq_len, 2*hidden_size*num_directions)\n",
    "        return clstm_attn_out\n",
    "    \n",
    "    def initHidden(self):\n",
    "        # Before we've done anything, we dont have any hidden state.\n",
    "        # Refer to the Pytorch documentation to see exactly\n",
    "        # why they have this dimensionality.\n",
    "        # The axes semantics are (num_layers*direction_num, minibatch_size, hidden_dim)\n",
    "        batch_size = self.batch_size\n",
    "        num_layers = self.num_layers\n",
    "        return (autograd.Variable(torch.zeros(num_layers*2, batch_size, self.hidden_dim).cuda()),\n",
    "                autograd.Variable(torch.zeros(num_layers*2, batch_size, self.hidden_dim).cuda()))\n",
    "\n",
    "    def forward(self, question, context):\n",
    "        qembeds = self.word_embeddings(autograd.Variable(torch.cuda.LongTensor([question])))\n",
    "        cembeds = self.word_embeddings(autograd.Variable(torch.cuda.LongTensor([context])))\n",
    "        # output : (seq_len, batch_size, hidden_size*num_directions)\n",
    "        qlstm_out, self.qhidden = self.qlstm(\n",
    "            qembeds.view(len(question), 1, -1), self.qhidden)\n",
    "        clstm_out, self.chidden = self.clstm(\n",
    "            cembeds.view(len(context), 1, -1), self.chidden)\n",
    "#         # (batch_size, cseq_len, 2*hidden_size*num_directions)\n",
    "#         clstm_attn_out = self.attnCombine(qlstm_out, clstm_out)\n",
    "\n",
    "        # (batch_size, hidden_size*num_directions, qseq_len)\n",
    "        qlstm_out_tmp = qlstm_out.permute(1, 2, 0)\n",
    "        # (batch_size, cseq_len, hidden_size*num_directions)\n",
    "        clstm_out_tmp = clstm_out.permute(1, 0, 2)\n",
    "        # (batch_size, cseq_len, qseq_len)\n",
    "        attn_weights = F.softmax(torch.bmm(clstm_out_tmp, qlstm_out_tmp), dim=2)\n",
    "        # (batch_size, qseq_len, hidden_size*num_directions)\n",
    "        qlstm_out_tmp2 = qlstm_out.permute(1, 0, 2)\n",
    "        # (batch_size, cseq_len, hidden_size*num_directions)\n",
    "        attn_vec = torch.bmm(attn_weights, qlstm_out_tmp2)\n",
    "        clstm_attn_out = torch.cat((clstm_out_tmp, attn_vec), dim=2)\n",
    "        # (batch_size, cseq_len, 2*hidden_size*num_directions)\n",
    "\n",
    "        # (batch_size, cseq_len, 2*hidden_size*num_directions)\n",
    "        end_space = self.out2end(clstm_attn_out)\n",
    "        # (batch_size, 2*hidden_size*num_directions, cseq_len)\n",
    "        clstm_attn_out_tmp = clstm_attn_out.permute(0, 2, 1)\n",
    "        \n",
    "        # (batch_size, cseq_len, 1)\n",
    "        start_prob = F.sigmoid(self.out2start(clstm_attn_out))\n",
    "        # (batch_size, cseq_len, cseq_len)\n",
    "        end_prob = F.softmax(torch.bmm(end_space, clstm_attn_out_tmp), dim=2)\n",
    "        \n",
    "        # (batch_size, cseq_len, cseq_len)\n",
    "        span_prob = end_prob*start_prob\n",
    "        return F.normalize(span_prob.view(self.batch_size, -1), dim=1, p=1)"
   ]
  },
  {
   "cell_type": "code",
   "execution_count": 7,
   "metadata": {
    "collapsed": true
   },
   "outputs": [],
   "source": [
    "mini = None\n",
    "maxi = None\n",
    "with open('./vectors.txt') as f:\n",
    "    for i, line in enumerate(f):\n",
    "        vec = np.array([float(x) for x in line.strip('\\n').split()])\n",
    "        mini = min(vec) if mini is None else min(mini, min(vec))\n",
    "        maxi = max(vec) if maxi is None else max(maxi, max(vec))"
   ]
  },
  {
   "cell_type": "code",
   "execution_count": 8,
   "metadata": {},
   "outputs": [
    {
     "name": "stdout",
     "output_type": "stream",
     "text": [
      "-2.25082 3.10778\n"
     ]
    }
   ],
   "source": [
    "print (mini, maxi)\n",
    "# CAVEAT: problems in unknown token initialization"
   ]
  },
  {
   "cell_type": "code",
   "execution_count": 131,
   "metadata": {},
   "outputs": [
    {
     "data": {
      "text/plain": [
       "\n",
       "  3   2  99\n",
       "  4   1  88\n",
       "[torch.LongTensor of size 2x3]"
      ]
     },
     "execution_count": 131,
     "metadata": {},
     "output_type": "execute_result"
    }
   ],
   "source": [
    "torch.LongTensor([[[3], [2], [99]], [[4], [1], [88]]]).view(2, -1)"
   ]
  },
  {
   "cell_type": "code",
   "execution_count": 139,
   "metadata": {},
   "outputs": [
    {
     "data": {
      "text/plain": [
       "\n",
       " 0.3333  0.6667\n",
       " 0.9429  0.0571\n",
       "[torch.FloatTensor of size 2x2]"
      ]
     },
     "execution_count": 139,
     "metadata": {},
     "output_type": "execute_result"
    }
   ],
   "source": [
    "F.normalize(torch.FloatTensor([[1, 2], [33, 2]]), dim=1, p=1)"
   ]
  },
  {
   "cell_type": "code",
   "execution_count": 169,
   "metadata": {},
   "outputs": [
    {
     "data": {
      "text/plain": [
       "\n",
       "(0 ,.,.) = \n",
       "   0   6  15  22  14  13  11  22\n",
       "  18  19   0   1  19  17  12  20\n",
       "  11  20  11   5  23  24   9   4\n",
       "   4  15   0  18   2   8   8  10\n",
       "   0  14   5   9  16  19   4   8\n",
       "  13  12  15   3  16  18  21   8\n",
       "  10  19   6   0  18  12  12  14\n",
       "  13  10  14   2  12  21  14  22\n",
       "[torch.LongTensor of size 1x8x8]"
      ]
     },
     "execution_count": 169,
     "metadata": {},
     "output_type": "execute_result"
    }
   ],
   "source": [
    "torch.LongTensor(1, 8, 8).random_(0, 25)"
   ]
  },
  {
   "cell_type": "code",
   "execution_count": null,
   "metadata": {
    "collapsed": true
   },
   "outputs": [],
   "source": []
  }
 ],
 "metadata": {
  "kernelspec": {
   "display_name": "Python 3",
   "language": "python",
   "name": "python3"
  },
  "language_info": {
   "codemirror_mode": {
    "name": "ipython",
    "version": 3
   },
   "file_extension": ".py",
   "mimetype": "text/x-python",
   "name": "python",
   "nbconvert_exporter": "python",
   "pygments_lexer": "ipython3",
   "version": "3.6.3"
  }
 },
 "nbformat": 4,
 "nbformat_minor": 2
}
