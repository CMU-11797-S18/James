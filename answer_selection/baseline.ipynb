{
 "cells": [
  {
   "cell_type": "code",
   "execution_count": 1,
   "metadata": {
    "collapsed": true
   },
   "outputs": [],
   "source": [
    "%load_ext autoreload\n",
    "%autoreload 2\n",
    "%matplotlib inline"
   ]
  },
  {
   "cell_type": "code",
   "execution_count": 64,
   "metadata": {
    "collapsed": true
   },
   "outputs": [],
   "source": [
    "import torch\n",
    "import json\n",
    "import pandas as pd\n",
    "import numpy as np\n",
    "import nltk\n",
    "import re"
   ]
  },
  {
   "cell_type": "markdown",
   "metadata": {},
   "source": [
    "BiLSTM(Q)\n",
    "BiLSTM(C)\n",
    "softmax([Ocs, Oce]WOq)\n",
    "cross_entropy"
   ]
  },
  {
   "cell_type": "code",
   "execution_count": 5,
   "metadata": {},
   "outputs": [],
   "source": [
    "with open('./BioASQ-trainingDataset5b.txt', encoding='utf8') as f:\n",
    "    data = json.load(f)"
   ]
  },
  {
   "cell_type": "code",
   "execution_count": 74,
   "metadata": {
    "collapsed": true
   },
   "outputs": [],
   "source": [
    "def getQAPair(data):\n",
    "    qa_pair = []\n",
    "    count = 0\n",
    "    for obj in data['questions']:\n",
    "        if obj['type'] in ['factoid']:\n",
    "            q = obj['body']\n",
    "            a = obj['exact_answer']\n",
    "            if obj['type'] == 'factoid' and isinstance(a[0], list):\n",
    "                assert len(a) == 1 \n",
    "                a = a[0]\n",
    "            t = obj['type']\n",
    "            s = []\n",
    "            for snippet in obj['snippets']:\n",
    "                if snippet['text'] not in s:\n",
    "                    s.append(snippet['text'])\n",
    "                else:\n",
    "                    count += 1\n",
    "            qa_pair.append([q, a, t, s])\n",
    "    print ('duplicate snippet count:', count)\n",
    "    return qa_pair\n",
    "\n",
    "def getWordDict(qa_pair_clean):\n",
    "    dct = set()\n",
    "    for (q, a, t, s) in qa_pair_clean:\n",
    "        for word in q:\n",
    "            dct.add(q_w)\n",
    "        for ans in a:\n",
    "            for word in ans:\n",
    "                dct.add(word)\n",
    "        for snippet in s:\n",
    "            for word in snippet:\n",
    "                dct.add(word)\n",
    "    return dct\n",
    "\n",
    "def getWordLineNum(w_dct, vec_path='./'):"
   ]
  },
  {
   "cell_type": "code",
   "execution_count": 45,
   "metadata": {},
   "outputs": [
    {
     "name": "stdout",
     "output_type": "stream",
     "text": [
      "duplicate snippet count: 3460\n"
     ]
    }
   ],
   "source": [
    "qa_pair = getQAPair(data)"
   ]
  },
  {
   "cell_type": "code",
   "execution_count": null,
   "metadata": {
    "collapsed": true
   },
   "outputs": [],
   "source": [
    "w_dct = "
   ]
  },
  {
   "cell_type": "code",
   "execution_count": 73,
   "metadata": {},
   "outputs": [
    {
     "data": {
      "text/plain": [
       "[['which',\n",
       "  'thyroid',\n",
       "  'hormone',\n",
       "  'transporter',\n",
       "  'is',\n",
       "  'implicated',\n",
       "  'in',\n",
       "  'thyroid',\n",
       "  'hormone',\n",
       "  'resistance',\n",
       "  'syndrome'],\n",
       " [['th',\n",
       "   'monocarboxylate',\n",
       "   'transporter',\n",
       "   '8',\n",
       "   'mct8',\n",
       "   'mutation',\n",
       "   'is',\n",
       "   'implicated',\n",
       "   'in',\n",
       "   'the',\n",
       "   'th',\n",
       "   'resistance',\n",
       "   'syndrome']],\n",
       " 'factoid',\n",
       " [['hemizygous',\n",
       "   'mct8',\n",
       "   'mutations',\n",
       "   'in',\n",
       "   'males',\n",
       "   'cause',\n",
       "   'severe',\n",
       "   'psychomotor',\n",
       "   'retardation',\n",
       "   'known',\n",
       "   'as',\n",
       "   'the',\n",
       "   'allan-herndon-dudley',\n",
       "   'syndrome',\n",
       "   'ahds',\n",
       "   'and',\n",
       "   'abnormal',\n",
       "   'serum',\n",
       "   'th',\n",
       "   'levels',\n",
       "   'ahds',\n",
       "   'thus',\n",
       "   'represents',\n",
       "   'a',\n",
       "   'type',\n",
       "   'of',\n",
       "   'th',\n",
       "   'resistance',\n",
       "   'caused',\n",
       "   'by',\n",
       "   'a',\n",
       "   'defect',\n",
       "   'in',\n",
       "   'cellular',\n",
       "   'th',\n",
       "   'transport'],\n",
       "  ['one',\n",
       "   'of',\n",
       "   'them',\n",
       "   'caused',\n",
       "   'by',\n",
       "   'mutations',\n",
       "   'in',\n",
       "   'the',\n",
       "   'th',\n",
       "   'cell-membrane',\n",
       "   'transporter',\n",
       "   'mct8',\n",
       "   'produces',\n",
       "   'severe',\n",
       "   'psychomotor',\n",
       "   'defects'],\n",
       "  ['three',\n",
       "   'syndromes',\n",
       "   'in',\n",
       "   'which',\n",
       "   'resistance',\n",
       "   'to',\n",
       "   'hormone',\n",
       "   'action',\n",
       "   'is',\n",
       "   'respectively',\n",
       "   'due',\n",
       "   'to',\n",
       "   'mutations',\n",
       "   'in',\n",
       "   'the',\n",
       "   'gene',\n",
       "   'encoding',\n",
       "   'for',\n",
       "   'thyroid',\n",
       "   'hormone',\n",
       "   'receptor',\n",
       "   'trβ',\n",
       "   'impaired',\n",
       "   't4',\n",
       "   'and',\n",
       "   't3',\n",
       "   'transport',\n",
       "   'and',\n",
       "   'impaired',\n",
       "   'conversion',\n",
       "   'of',\n",
       "   't4',\n",
       "   'to',\n",
       "   't3',\n",
       "   'mediated',\n",
       "   'by',\n",
       "   'deiodinases'],\n",
       "  ['one',\n",
       "   'producing',\n",
       "   'severe',\n",
       "   'psychomotor',\n",
       "   'defects',\n",
       "   'in',\n",
       "   '100',\n",
       "   'males',\n",
       "   'from',\n",
       "   '26',\n",
       "   'families',\n",
       "   'is',\n",
       "   'caused',\n",
       "   'by',\n",
       "   'mutations',\n",
       "   'in',\n",
       "   'the',\n",
       "   'cell-membrane',\n",
       "   'transporter',\n",
       "   'of',\n",
       "   'th',\n",
       "   'mct8']]]"
      ]
     },
     "execution_count": 73,
     "metadata": {},
     "output_type": "execute_result"
    }
   ],
   "source": [
    "qa_pair_clean = []\n",
    "for (q, a, t, s) in qa_pair:\n",
    "    q = bioclean(q).split()\n",
    "    a = [bioclean(x).split() for x in a]\n",
    "    t = t\n",
    "    s = [bioclean(x).split() for x in s]\n",
    "    qa_pair_clean.append([q, a, t, s])\n",
    "qa_pair_clean[0]"
   ]
  },
  {
   "cell_type": "code",
   "execution_count": null,
   "metadata": {
    "collapsed": true
   },
   "outputs": [],
   "source": []
  },
  {
   "cell_type": "code",
   "execution_count": 38,
   "metadata": {},
   "outputs": [
    {
     "data": {
      "text/plain": [
       "count    899.000000\n",
       "mean      14.303671\n",
       "std       12.157930\n",
       "min        0.000000\n",
       "25%        6.000000\n",
       "50%       11.000000\n",
       "75%       19.000000\n",
       "max      121.000000\n",
       "dtype: float64"
      ]
     },
     "execution_count": 38,
     "metadata": {},
     "output_type": "execute_result"
    }
   ],
   "source": [
    "snippet_count.describe()"
   ]
  },
  {
   "cell_type": "code",
   "execution_count": 39,
   "metadata": {},
   "outputs": [
    {
     "data": {
      "text/plain": [
       "486"
      ]
     },
     "execution_count": 39,
     "metadata": {},
     "output_type": "execute_result"
    }
   ],
   "source": [
    "len(qa_pair)"
   ]
  },
  {
   "cell_type": "code",
   "execution_count": 55,
   "metadata": {
    "scrolled": false
   },
   "outputs": [
    {
     "data": {
      "text/plain": [
       "['Which thyroid hormone transporter is implicated in thyroid hormone resistance syndrome?',\n",
       " ['TH monocarboxylate transporter 8 (MCT8) mutation is implicated in the TH resistance syndrome'],\n",
       " 'factoid',\n",
       " ['Hemizygous MCT8 mutations in males cause severe psychomotor retardation, known as the Allan-Herndon-Dudley syndrome (AHDS), and abnormal serum TH levels. AHDS thus represents a type of TH resistance caused by a defect in cellular TH transport.',\n",
       "  ' One of them, caused by mutations in the TH cell-membrane transporter MCT8, produces severe psychomotor defects.',\n",
       "  ' Three syndromes, in which resistance to hormone action is respectively due to mutations in the gene encoding for thyroid hormone receptor TRβ, impaired T4 and T3 transport, and impaired conversion of T4 to T3 mediated by deiodinases.',\n",
       "  'One, producing severe psychomotor defects in > 100 males from 26 families, is caused by mutations in the cell-membrane transporter of TH, MCT8;']]"
      ]
     },
     "execution_count": 55,
     "metadata": {},
     "output_type": "execute_result"
    }
   ],
   "source": [
    "qa_pair[0]"
   ]
  },
  {
   "cell_type": "code",
   "execution_count": 42,
   "metadata": {},
   "outputs": [
    {
     "data": {
      "text/plain": [
       "{'body': 'Is Hirschsprung disease a mendelian or a multifactorial disorder?',\n",
       " 'concepts': ['http://www.disease-ontology.org/api/metadata/DOID:10487',\n",
       "  'http://www.nlm.nih.gov/cgi/mesh/2015/MB_cgi?field=uid&exact=Find+Exact+Term&term=D006627',\n",
       "  'http://www.disease-ontology.org/api/metadata/DOID:11372',\n",
       "  'http://www.nlm.nih.gov/cgi/mesh/2015/MB_cgi?field=uid&exact=Find+Exact+Term&term=D020412'],\n",
       " 'documents': ['http://www.ncbi.nlm.nih.gov/pubmed/15829955',\n",
       "  'http://www.ncbi.nlm.nih.gov/pubmed/15617541',\n",
       "  'http://www.ncbi.nlm.nih.gov/pubmed/12239580',\n",
       "  'http://www.ncbi.nlm.nih.gov/pubmed/8896569',\n",
       "  'http://www.ncbi.nlm.nih.gov/pubmed/6650562',\n",
       "  'http://www.ncbi.nlm.nih.gov/pubmed/20598273',\n",
       "  'http://www.ncbi.nlm.nih.gov/pubmed/21995290',\n",
       "  'http://www.ncbi.nlm.nih.gov/pubmed/23001136'],\n",
       " 'id': '55031181e9bde69634000014',\n",
       " 'ideal_answer': [\"Coding sequence mutations in RET, GDNF, EDNRB, EDN3, and SOX10 are involved in the development of Hirschsprung disease. The majority of these genes was shown to be related to Mendelian syndromic forms of Hirschsprung's disease, whereas the non-Mendelian inheritance of sporadic non-syndromic Hirschsprung disease proved to be complex; involvement of multiple loci was demonstrated in a multiplicative model.\"],\n",
       " 'snippets': [{'beginSection': 'abstract',\n",
       "   'document': 'http://www.ncbi.nlm.nih.gov/pubmed/15829955',\n",
       "   'endSection': 'abstract',\n",
       "   'offsetInBeginSection': 131,\n",
       "   'offsetInEndSection': 358,\n",
       "   'text': 'Hirschsprung disease (HSCR) is a multifactorial, non-mendelian disorder in which rare high-penetrance coding sequence mutations in the receptor tyrosine kinase RET contribute to risk in combination with mutations at other genes'},\n",
       "  {'beginSection': 'abstract',\n",
       "   'document': 'http://www.ncbi.nlm.nih.gov/pubmed/15617541',\n",
       "   'endSection': 'abstract',\n",
       "   'offsetInBeginSection': 554,\n",
       "   'offsetInEndSection': 992,\n",
       "   'text': \"In this study, we review the identification of genes and loci involved in the non-syndromic common form and syndromic Mendelian forms of Hirschsprung's disease. The majority of the identified genes are related to Mendelian syndromic forms of Hirschsprung's disease. The non-Mendelian inheritance of sporadic non-syndromic Hirschsprung's disease proved to be complex; involvement of multiple loci was demonstrated in a multiplicative model\"},\n",
       "  {'beginSection': 'abstract',\n",
       "   'document': 'http://www.ncbi.nlm.nih.gov/pubmed/12239580',\n",
       "   'endSection': 'abstract',\n",
       "   'offsetInBeginSection': 397,\n",
       "   'offsetInEndSection': 939,\n",
       "   'text': 'Coding sequence mutations in e.g. RET, GDNF, EDNRB, EDN3, and SOX10 lead to long-segment (L-HSCR) as well as syndromic HSCR but fail to explain the transmission of the much more common short-segment form (S-HSCR). Furthermore, mutations in the RET gene are responsible for approximately half of the familial and some sporadic cases, strongly suggesting, on the one hand, the importance of non-coding variations and, on the other hand, that additional genes involved in the development of the enteric nervous system still await their discovery'},\n",
       "  {'beginSection': 'abstract',\n",
       "   'document': 'http://www.ncbi.nlm.nih.gov/pubmed/12239580',\n",
       "   'endSection': 'abstract',\n",
       "   'offsetInBeginSection': 941,\n",
       "   'offsetInEndSection': 1279,\n",
       "   'text': 'For almost all of the identified HSCR genes incomplete penetrance of the HSCR phenotype has been reported, probably due to modifier loci. Therefore, HSCR has become a model for a complex oligo-/polygenic disorder in which the relationship between different genes creating a non-mendelian inheritance pattern still remains to be elucidated'},\n",
       "  {'beginSection': 'abstract',\n",
       "   'document': 'http://www.ncbi.nlm.nih.gov/pubmed/15829955',\n",
       "   'endSection': 'abstract',\n",
       "   'offsetInBeginSection': 129,\n",
       "   'offsetInEndSection': 358,\n",
       "   'text': ' Hirschsprung disease (HSCR) is a multifactorial, non-mendelian disorder in which rare high-penetrance coding sequence mutations in the receptor tyrosine kinase RET contribute to risk in combination with mutations at other genes.'},\n",
       "  {'beginSection': 'abstract',\n",
       "   'document': 'http://www.ncbi.nlm.nih.gov/pubmed/6650562',\n",
       "   'endSection': 'abstract',\n",
       "   'offsetInBeginSection': 851,\n",
       "   'offsetInEndSection': 1007,\n",
       "   'text': ' The inheritance of Hirschsprung disease is generally consistent with sex-modified multifactorial inheritance with a lower threshold of expression in males.'},\n",
       "  {'beginSection': 'abstract',\n",
       "   'document': 'http://www.ncbi.nlm.nih.gov/pubmed/15829955',\n",
       "   'endSection': 'abstract',\n",
       "   'offsetInBeginSection': 131,\n",
       "   'offsetInEndSection': 359,\n",
       "   'text': 'Hirschsprung disease (HSCR) is a multifactorial, non-mendelian disorder in which rare high-penetrance coding sequence mutations in the receptor tyrosine kinase RET contribute to risk in combination with mutations at other genes.'},\n",
       "  {'beginSection': 'title',\n",
       "   'document': 'http://www.ncbi.nlm.nih.gov/pubmed/20598273',\n",
       "   'endSection': 'title',\n",
       "   'offsetInBeginSection': 0,\n",
       "   'offsetInEndSection': 131,\n",
       "   'text': 'Differential contributions of rare and common, coding and noncoding Ret mutations to multifactorial Hirschsprung disease liability.'},\n",
       "  {'beginSection': 'abstract',\n",
       "   'document': 'http://www.ncbi.nlm.nih.gov/pubmed/21995290',\n",
       "   'endSection': 'abstract',\n",
       "   'offsetInBeginSection': 0,\n",
       "   'offsetInEndSection': 210,\n",
       "   'text': 'BACKGROUND: RET is the major gene associated to Hirschsprung disease (HSCR) with differential contributions of its rare and common, coding and noncoding mutations to the multifactorial nature of this pathology.'},\n",
       "  {'beginSection': 'abstract',\n",
       "   'document': 'http://www.ncbi.nlm.nih.gov/pubmed/15829955',\n",
       "   'endSection': 'abstract',\n",
       "   'offsetInBeginSection': 131,\n",
       "   'offsetInEndSection': 358,\n",
       "   'text': 'Hirschsprung disease (HSCR) is a multifactorial, non-mendelian disorder in which rare high-penetrance coding sequence mutations in the receptor tyrosine kinase RET contribute to risk in combination with mutations at other genes'},\n",
       "  {'beginSection': 'abstract',\n",
       "   'document': 'http://www.ncbi.nlm.nih.gov/pubmed/15617541',\n",
       "   'endSection': 'abstract',\n",
       "   'offsetInBeginSection': 554,\n",
       "   'offsetInEndSection': 992,\n",
       "   'text': \"In this study, we review the identification of genes and loci involved in the non-syndromic common form and syndromic Mendelian forms of Hirschsprung's disease. The majority of the identified genes are related to Mendelian syndromic forms of Hirschsprung's disease. The non-Mendelian inheritance of sporadic non-syndromic Hirschsprung's disease proved to be complex; involvement of multiple loci was demonstrated in a multiplicative model\"},\n",
       "  {'beginSection': 'abstract',\n",
       "   'document': 'http://www.ncbi.nlm.nih.gov/pubmed/15829955',\n",
       "   'endSection': 'abstract',\n",
       "   'offsetInBeginSection': 131,\n",
       "   'offsetInEndSection': 359,\n",
       "   'text': 'Hirschsprung disease (HSCR) is a multifactorial, non-mendelian disorder in which rare high-penetrance coding sequence mutations in the receptor tyrosine kinase RET contribute to risk in combination with mutations at other genes.'},\n",
       "  {'beginSection': 'abstract',\n",
       "   'document': 'http://www.ncbi.nlm.nih.gov/pubmed/15858239',\n",
       "   'endSection': 'abstract',\n",
       "   'offsetInBeginSection': 151,\n",
       "   'offsetInEndSection': 376,\n",
       "   'text': 'In the etiology of Hirschsprung disease various genes play a role; these are: RET, EDNRB, GDNF, EDN3 and SOX10, NTN3, ECE1, Mutations in these genes may result in dominant, recessive or multifactorial patterns of inheritance.'},\n",
       "  {'beginSection': 'abstract',\n",
       "   'document': 'http://www.ncbi.nlm.nih.gov/pubmed/15829955',\n",
       "   'endSection': 'abstract',\n",
       "   'offsetInBeginSection': 131,\n",
       "   'offsetInEndSection': 358,\n",
       "   'text': 'Hirschsprung disease (HSCR) is a multifactorial, non-mendelian disorder in which rare high-penetrance coding sequence mutations in the receptor tyrosine kinase RET contribute to risk in combination with mutations at other genes'},\n",
       "  {'beginSection': 'abstract',\n",
       "   'document': 'http://www.ncbi.nlm.nih.gov/pubmed/15829955',\n",
       "   'endSection': 'abstract',\n",
       "   'offsetInBeginSection': 131,\n",
       "   'offsetInEndSection': 358,\n",
       "   'text': 'Hirschsprung disease (HSCR) is a multifactorial, non-mendelian disorder in which rare high-penetrance coding sequence mutations in the receptor tyrosine kinase RET contribute to risk in combination with mutations at other genes'},\n",
       "  {'beginSection': 'title',\n",
       "   'document': 'http://www.ncbi.nlm.nih.gov/pubmed/23001136',\n",
       "   'endSection': 'title',\n",
       "   'offsetInBeginSection': 0,\n",
       "   'offsetInEndSection': 83,\n",
       "   'text': \"Chromosomal and related Mendelian syndromes associated with Hirschsprung's disease.\"},\n",
       "  {'beginSection': 'abstract',\n",
       "   'document': 'http://www.ncbi.nlm.nih.gov/pubmed/15617541',\n",
       "   'endSection': 'abstract',\n",
       "   'offsetInBeginSection': 715,\n",
       "   'offsetInEndSection': 818,\n",
       "   'text': \"The majority of the identified genes are related to Mendelian syndromic forms of Hirschsprung's disease\"},\n",
       "  {'beginSection': 'abstract',\n",
       "   'document': 'http://www.ncbi.nlm.nih.gov/pubmed/15829955',\n",
       "   'endSection': 'abstract',\n",
       "   'offsetInBeginSection': 131,\n",
       "   'offsetInEndSection': 358,\n",
       "   'text': 'Hirschsprung disease (HSCR) is a multifactorial, non-mendelian disorder in which rare high-penetrance coding sequence mutations in the receptor tyrosine kinase RET contribute to risk in combination with mutations at other genes'},\n",
       "  {'beginSection': 'abstract',\n",
       "   'document': 'http://www.ncbi.nlm.nih.gov/pubmed/15858239',\n",
       "   'endSection': 'abstract',\n",
       "   'offsetInBeginSection': 151,\n",
       "   'offsetInEndSection': 375,\n",
       "   'text': 'In the etiology of Hirschsprung disease various genes play a role; these are: RET, EDNRB, GDNF, EDN3 and SOX10, NTN3, ECE1, Mutations in these genes may result in dominant, recessive or multifactorial patterns of inheritance'},\n",
       "  {'beginSection': 'title',\n",
       "   'document': 'http://www.ncbi.nlm.nih.gov/pubmed/23001136',\n",
       "   'endSection': 'title',\n",
       "   'offsetInBeginSection': 0,\n",
       "   'offsetInEndSection': 83,\n",
       "   'text': \"Chromosomal and related Mendelian syndromes associated with Hirschsprung's disease.\"},\n",
       "  {'beginSection': 'abstract',\n",
       "   'document': 'http://www.ncbi.nlm.nih.gov/pubmed/15617541',\n",
       "   'endSection': 'abstract',\n",
       "   'offsetInBeginSection': 715,\n",
       "   'offsetInEndSection': 818,\n",
       "   'text': \"The majority of the identified genes are related to Mendelian syndromic forms of Hirschsprung's disease\"},\n",
       "  {'beginSection': 'abstract',\n",
       "   'document': 'http://www.ncbi.nlm.nih.gov/pubmed/15829955',\n",
       "   'endSection': 'abstract',\n",
       "   'offsetInBeginSection': 131,\n",
       "   'offsetInEndSection': 358,\n",
       "   'text': 'Hirschsprung disease (HSCR) is a multifactorial, non-mendelian disorder in which rare high-penetrance coding sequence mutations in the receptor tyrosine kinase RET contribute to risk in combination with mutations at other genes'},\n",
       "  {'beginSection': 'abstract',\n",
       "   'document': 'http://www.ncbi.nlm.nih.gov/pubmed/8896569',\n",
       "   'endSection': 'abstract',\n",
       "   'offsetInBeginSection': 417,\n",
       "   'offsetInEndSection': 615,\n",
       "   'text': 'On the basis of a skewed sex-ratio (M/F = 4/1) and a risk to relatives much higher than the incidence in the general population, HSCR has long been regarded as a sex-modified multifactorial disorder'},\n",
       "  {'beginSection': 'abstract',\n",
       "   'document': 'http://www.ncbi.nlm.nih.gov/pubmed/6650562',\n",
       "   'endSection': 'abstract',\n",
       "   'offsetInBeginSection': 858,\n",
       "   'offsetInEndSection': 1012,\n",
       "   'text': 'The inheritance of Hirschsprung disease is generally consistent with sex-modified multifactorial inheritance with a lower threshold of expression in males'},\n",
       "  {'beginSection': 'abstract',\n",
       "   'document': 'http://www.ncbi.nlm.nih.gov/pubmed/15858239',\n",
       "   'endSection': 'abstract',\n",
       "   'offsetInBeginSection': 151,\n",
       "   'offsetInEndSection': 375,\n",
       "   'text': 'In the etiology of Hirschsprung disease various genes play a role; these are: RET, EDNRB, GDNF, EDN3 and SOX10, NTN3, ECE1, Mutations in these genes may result in dominant, recessive or multifactorial patterns of inheritance'},\n",
       "  {'beginSection': 'title',\n",
       "   'document': 'http://www.ncbi.nlm.nih.gov/pubmed/23001136',\n",
       "   'endSection': 'title',\n",
       "   'offsetInBeginSection': 0,\n",
       "   'offsetInEndSection': 83,\n",
       "   'text': \"Chromosomal and related Mendelian syndromes associated with Hirschsprung's disease.\"},\n",
       "  {'beginSection': 'abstract',\n",
       "   'document': 'http://www.ncbi.nlm.nih.gov/pubmed/15617541',\n",
       "   'endSection': 'abstract',\n",
       "   'offsetInBeginSection': 715,\n",
       "   'offsetInEndSection': 818,\n",
       "   'text': \"The majority of the identified genes are related to Mendelian syndromic forms of Hirschsprung's disease\"},\n",
       "  {'beginSection': 'abstract',\n",
       "   'document': 'http://www.ncbi.nlm.nih.gov/pubmed/15617541',\n",
       "   'endSection': 'abstract',\n",
       "   'offsetInBeginSection': 820,\n",
       "   'offsetInEndSection': 992,\n",
       "   'text': \"The non-Mendelian inheritance of sporadic non-syndromic Hirschsprung's disease proved to be complex; involvement of multiple loci was demonstrated in a multiplicative model\"},\n",
       "  {'beginSection': 'abstract',\n",
       "   'document': 'http://www.ncbi.nlm.nih.gov/pubmed/15829955',\n",
       "   'endSection': 'abstract',\n",
       "   'offsetInBeginSection': 131,\n",
       "   'offsetInEndSection': 358,\n",
       "   'text': 'Hirschsprung disease (HSCR) is a multifactorial, non-mendelian disorder in which rare high-penetrance coding sequence mutations in the receptor tyrosine kinase RET contribute to risk in combination with mutations at other genes'},\n",
       "  {'beginSection': 'title',\n",
       "   'document': 'http://www.ncbi.nlm.nih.gov/pubmed/23001136',\n",
       "   'endSection': 'title',\n",
       "   'offsetInBeginSection': 0,\n",
       "   'offsetInEndSection': 83,\n",
       "   'text': \"Chromosomal and related Mendelian syndromes associated with Hirschsprung's disease.\"}],\n",
       " 'triples': [],\n",
       " 'type': 'summary'}"
      ]
     },
     "execution_count": 42,
     "metadata": {},
     "output_type": "execute_result"
    }
   ],
   "source": [
    "data['questions'][0]"
   ]
  },
  {
   "cell_type": "code",
   "execution_count": null,
   "metadata": {
    "collapsed": true
   },
   "outputs": [],
   "source": [
    "#preprocessing\n",
    "with open('./types.txt') as ftype:\n",
    "    for line in ftype:\n",
    "        line = line.strip('\\n')"
   ]
  },
  {
   "cell_type": "code",
   "execution_count": null,
   "metadata": {
    "collapsed": true
   },
   "outputs": [],
   "source": []
  }
 ],
 "metadata": {
  "kernelspec": {
   "display_name": "Python 3",
   "language": "python",
   "name": "python3"
  },
  "language_info": {
   "codemirror_mode": {
    "name": "ipython",
    "version": 3
   },
   "file_extension": ".py",
   "mimetype": "text/x-python",
   "name": "python",
   "nbconvert_exporter": "python",
   "pygments_lexer": "ipython3",
   "version": "3.6.3"
  }
 },
 "nbformat": 4,
 "nbformat_minor": 2
}
