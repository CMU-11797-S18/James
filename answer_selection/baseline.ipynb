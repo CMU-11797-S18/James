{
 "cells": [
  {
   "cell_type": "code",
   "execution_count": 16,
   "metadata": {
    "collapsed": true
   },
   "outputs": [],
   "source": [
    "%load_ext autoreload\n",
    "%autoreload 2\n",
    "%matplotlib inline"
   ]
  },
  {
   "cell_type": "code",
   "execution_count": 13,
   "metadata": {
    "collapsed": true
   },
   "outputs": [],
   "source": [
    "import torch\n",
    "import json\n",
    "import pandas as pd\n",
    "import numpy as np\n",
    "import nltk\n",
    "import re\n",
    "from collections import defaultdict"
   ]
  },
  {
   "cell_type": "markdown",
   "metadata": {},
   "source": [
    "BiLSTM(Q)\n",
    "BiLSTM(C)\n",
    "softmax([Ocs, Oce]WOq)\n",
    "cross_entropy"
   ]
  },
  {
   "cell_type": "code",
   "execution_count": 17,
   "metadata": {},
   "outputs": [
    {
     "ename": "IndentationError",
     "evalue": "expected an indented block (<ipython-input-17-ab57ab3cdb8f>, line 39)",
     "output_type": "error",
     "traceback": [
      "\u001b[1;36m  File \u001b[1;32m\"<ipython-input-17-ab57ab3cdb8f>\"\u001b[1;36m, line \u001b[1;32m39\u001b[0m\n\u001b[1;33m    def getQAPairTraining(qa_pair):\u001b[0m\n\u001b[1;37m                                   ^\u001b[0m\n\u001b[1;31mIndentationError\u001b[0m\u001b[1;31m:\u001b[0m expected an indented block\n"
     ]
    }
   ],
   "source": [
    "def bioclean(t):\n",
    "    return ' '.join(re.sub('[.,?;*!%^&_+():-\\[\\]{}]', '',\n",
    "                        (t.replace('\"', '').replace('/', '')\n",
    "                         .replace('\\\\', '').replace(\"'\", '')\n",
    "                         .strip().lower()))\n",
    "                    .split())\n",
    "\n",
    "def cleanAnswer(a):\n",
    "    clean_a = []\n",
    "    for synonym_lst in a:\n",
    "        lst = []\n",
    "        for synonym in synonym_lst:\n",
    "            lst.append(bioclean(synonym))\n",
    "        clean_a.append(lst)\n",
    "    return clean_a\n",
    "\n",
    "def getSpans(a, snippet):\n",
    "    spans = []\n",
    "    for synonym_lst in a:\n",
    "        for synonym in synonym_lst:\n",
    "            synonym = re.escape(synonym)\n",
    "            span = [(m.start(), m.end() - 1) for m in re.finditer(synonym, snippet)]\n",
    "            if len(span):\n",
    "                spans += span\n",
    "    return spans\n",
    "    \n",
    "def ansInSnippet(a, snippet):\n",
    "    snippet = snippet.lower()\n",
    "    for synonym_lst in a:\n",
    "        for synonym in synonym_lst:\n",
    "            if synonym.lower() in snippet:\n",
    "                return True\n",
    "    return False\n",
    "\n",
    "def getQAPairClean(qa_pair):\n",
    "    qa_pair_clean = []\n",
    "    for (q, a, t, s) in qa_pair:\n",
    "        s_clean = []\n",
    "        a_clean = cleanAnswer(a)\n",
    "        q = bioclean(q)\n",
    "        for snippet in s:\n",
    "            snippet = bioclean(snippet)\n",
    "            s_clean.append(snippet)\n",
    "        qa_pair_clean.append([q, a, t, s, s_clean, a_clean, []])\n",
    "    return qa_pair_clean\n",
    "\n",
    "def getQAPairTraining(qa_pair):\n",
    "    qa_pair_clean = getQAPairClean(qa_pair)\n",
    "    qa_pair_train = []\n",
    "    p = []\n",
    "    for (q, a, t, s, s_clean, a_clean, _) in qa_pair_clean:\n",
    "        s_train = []\n",
    "        s_ori = []\n",
    "        for (i, snippet) in enumerate(s_clean):\n",
    "            spans = getSpans(a_clean, snippet)\n",
    "            if len(spans):\n",
    "                p.append(spans)\n",
    "                s_ori.append(s[i])\n",
    "                s_train.append(snippet)\n",
    "        if len(s_ori):\n",
    "            qa_pair_train.append([q, a, t, s_ori, s_train, a_clean, p])\n",
    "    return qa_pair_train\n",
    "\n",
    "def text2List(qa_pair_clean):\n",
    "    word_set = set()\n",
    "    qa_pair_t2l = []\n",
    "    for (q, a, t, s, s_clean, a_clean, p) in qa_pair_clean:\n",
    "        s_clean_t2l = []\n",
    "        for snippet in s_clean:\n",
    "            word_seq = snippet.split()\n",
    "            word_set.update(word_seq)\n",
    "            s_clean_t2l.append(word_seq)\n",
    "        q_t2l = q.split()\n",
    "        word_set.update(q_t2l)\n",
    "        for ans\n",
    "        \n",
    "        \n",
    "    return (q)\n",
    "    \n",
    "\n",
    "def getQAPair(data):\n",
    "    qa_pair = []\n",
    "    count = 0\n",
    "    for obj in data['questions']:\n",
    "        if obj['type'] in ['factoid', 'list']:\n",
    "            q = obj['body']\n",
    "            a = obj['exact_answer']\n",
    "            if obj['type'] == 'factoid' and not isinstance(a[0], list):\n",
    "                a = [a]\n",
    "            t = obj['type']\n",
    "            s = []\n",
    "                        \n",
    "            for snippet in obj['snippets']:\n",
    "                snippet = snippet['text']\n",
    "                if snippet not in s:\n",
    "                    s.append(snippet)\n",
    "                else:\n",
    "                    count += 1\n",
    "            if len(s) > 0:\n",
    "                qa_pair.append([q, a, t, s])\n",
    "    print ('duplicate snippet count:', count)\n",
    "    return qa_pair\n",
    "\n",
    "def getWordDict(qa_pair_clean):\n",
    "    dct = set()\n",
    "    for (q, a, t, s) in qa_pair_clean:\n",
    "        for word in q:\n",
    "            dct.add(word)\n",
    "        for ans in a:\n",
    "            for word in ans:\n",
    "                dct.add(word)\n",
    "        for snippet in s:\n",
    "            for word in snippet:\n",
    "                dct.add(word)\n",
    "    return dct\n",
    "\n",
    "def getCleanQAPair(qa_pair):\n",
    "    qa_pair_clean = []\n",
    "    for (q, a, t, s, p) in qa_pair:\n",
    "        q = bioclean(q).split()\n",
    "        a = [bioclean(x).split() for x in a]\n",
    "        t = t\n",
    "        s = [bioclean(x).split() for x in s]\n",
    "        qa_pair_clean.append([q, a, t, s, p])\n",
    "    return qa_pair_clean\n",
    "\n",
    "def loadEmbedBioASQ(w_dct, vec_path, type_path):\n",
    "    linenum2word = {}\n",
    "    with open(type_path, encoding='utf8') as f:\n",
    "        for i, line in enumerate(f):\n",
    "            w = line.strip('\\n')\n",
    "            if w in w_dct:\n",
    "                linenum2word[i] = w\n",
    "    print (len(linenum2word), 'words found for all', len(w_dct), 'words')\n",
    "    word_vec = []\n",
    "    word2ind = defaultdict(lambda:len(word2ind))\n",
    "    with open(vec_path) as f:\n",
    "        for i, line in enumerate(f):\n",
    "            if i in linenum2word:\n",
    "                word = linenum2word[i]\n",
    "                vec = np.array([float(x) for x in line.strip('\\n').split()])\n",
    "                word_vec.append(vec)\n",
    "                word2ind[word] \n",
    "    return (np.array(word_vec), word2ind)\n",
    "\n",
    "def loadEmbedGloVe(w_dct, vec_path):\n",
    "    word2ind = defaultdict(lambda:len(word2ind))\n",
    "    word_vec = []\n",
    "\n",
    "    with open(vec_path, encoding='utf-8') as f:\n",
    "        for i, line in enumerate(f):\n",
    "            line = line.strip('\\n').split(' ')\n",
    "            word = bioclean(line[0])\n",
    "            if word in w_dct and word not in word2ind:\n",
    "                vec = np.array([float(x) for x in line[1:]])\n",
    "                word_vec.append(vec)\n",
    "                word2ind[word]\n",
    "    print (len(word2ind), 'words found for all', len(w_dct), 'words')\n",
    "\n",
    "    return (np.array(word_vec), word2ind)\n",
    "\n",
    "\n"
   ]
  },
  {
   "cell_type": "code",
   "execution_count": 21,
   "metadata": {
    "collapsed": true
   },
   "outputs": [],
   "source": [
    "with open('./BioASQ-trainingDataset5b.txt', encoding='utf8') as f:\n",
    "    data = json.load(f)"
   ]
  },
  {
   "cell_type": "code",
   "execution_count": 38,
   "metadata": {},
   "outputs": [
    {
     "name": "stdout",
     "output_type": "stream",
     "text": [
      "15358 words found for all 16626 words\n"
     ]
    }
   ],
   "source": [
    "(word_vec_bio, word2ind_bio) = loadEmbedBioASQ(w_dct, vec_path='./vectors.txt', type_path='./types.txt')"
   ]
  },
  {
   "cell_type": "code",
   "execution_count": 49,
   "metadata": {},
   "outputs": [
    {
     "name": "stdout",
     "output_type": "stream",
     "text": [
      "10540 words found for all 16626 words\n"
     ]
    }
   ],
   "source": [
    "(word_vec_GloVe, word2ind_GloVe) = loadEmbedGloVe(w_dct, './glove.6B.300d.txt')"
   ]
  },
  {
   "cell_type": "code",
   "execution_count": 41,
   "metadata": {},
   "outputs": [
    {
     "data": {
      "text/plain": [
       "200"
      ]
     },
     "execution_count": 41,
     "metadata": {},
     "output_type": "execute_result"
    }
   ],
   "source": [
    "len(word_vec[0])"
   ]
  },
  {
   "cell_type": "code",
   "execution_count": 43,
   "metadata": {},
   "outputs": [
    {
     "data": {
      "text/plain": [
       "(15358, 200)"
      ]
     },
     "execution_count": 43,
     "metadata": {},
     "output_type": "execute_result"
    }
   ],
   "source": [
    "word_vec.shape"
   ]
  },
  {
   "cell_type": "code",
   "execution_count": 26,
   "metadata": {},
   "outputs": [
    {
     "name": "stdout",
     "output_type": "stream",
     "text": [
      "duplicate snippet count: 3460\n"
     ]
    }
   ],
   "source": [
    "qa_pair = getQAPair(data)\n",
    "qa_pair_clean = getCleanQAPair(qa_pair)\n",
    "w_dct = getWordDict(qa_pair_clean)"
   ]
  },
  {
   "cell_type": "code",
   "execution_count": 27,
   "metadata": {},
   "outputs": [
    {
     "data": {
      "text/plain": [
       "16626"
      ]
     },
     "execution_count": 27,
     "metadata": {},
     "output_type": "execute_result"
    }
   ],
   "source": [
    "len(w_dct)"
   ]
  },
  {
   "cell_type": "code",
   "execution_count": 38,
   "metadata": {},
   "outputs": [
    {
     "data": {
      "text/plain": [
       "count    899.000000\n",
       "mean      14.303671\n",
       "std       12.157930\n",
       "min        0.000000\n",
       "25%        6.000000\n",
       "50%       11.000000\n",
       "75%       19.000000\n",
       "max      121.000000\n",
       "dtype: float64"
      ]
     },
     "execution_count": 38,
     "metadata": {},
     "output_type": "execute_result"
    }
   ],
   "source": [
    "snippet_count.describe()"
   ]
  },
  {
   "cell_type": "code",
   "execution_count": 39,
   "metadata": {},
   "outputs": [
    {
     "data": {
      "text/plain": [
       "486"
      ]
     },
     "execution_count": 39,
     "metadata": {},
     "output_type": "execute_result"
    }
   ],
   "source": [
    "len(qa_pair)"
   ]
  },
  {
   "cell_type": "code",
   "execution_count": 55,
   "metadata": {
    "scrolled": false
   },
   "outputs": [
    {
     "data": {
      "text/plain": [
       "['Which thyroid hormone transporter is implicated in thyroid hormone resistance syndrome?',\n",
       " ['TH monocarboxylate transporter 8 (MCT8) mutation is implicated in the TH resistance syndrome'],\n",
       " 'factoid',\n",
       " ['Hemizygous MCT8 mutations in males cause severe psychomotor retardation, known as the Allan-Herndon-Dudley syndrome (AHDS), and abnormal serum TH levels. AHDS thus represents a type of TH resistance caused by a defect in cellular TH transport.',\n",
       "  ' One of them, caused by mutations in the TH cell-membrane transporter MCT8, produces severe psychomotor defects.',\n",
       "  ' Three syndromes, in which resistance to hormone action is respectively due to mutations in the gene encoding for thyroid hormone receptor TRβ, impaired T4 and T3 transport, and impaired conversion of T4 to T3 mediated by deiodinases.',\n",
       "  'One, producing severe psychomotor defects in > 100 males from 26 families, is caused by mutations in the cell-membrane transporter of TH, MCT8;']]"
      ]
     },
     "execution_count": 55,
     "metadata": {},
     "output_type": "execute_result"
    }
   ],
   "source": [
    "qa_pair[0]"
   ]
  },
  {
   "cell_type": "code",
   "execution_count": 42,
   "metadata": {},
   "outputs": [
    {
     "data": {
      "text/plain": [
       "{'body': 'Is Hirschsprung disease a mendelian or a multifactorial disorder?',\n",
       " 'concepts': ['http://www.disease-ontology.org/api/metadata/DOID:10487',\n",
       "  'http://www.nlm.nih.gov/cgi/mesh/2015/MB_cgi?field=uid&exact=Find+Exact+Term&term=D006627',\n",
       "  'http://www.disease-ontology.org/api/metadata/DOID:11372',\n",
       "  'http://www.nlm.nih.gov/cgi/mesh/2015/MB_cgi?field=uid&exact=Find+Exact+Term&term=D020412'],\n",
       " 'documents': ['http://www.ncbi.nlm.nih.gov/pubmed/15829955',\n",
       "  'http://www.ncbi.nlm.nih.gov/pubmed/15617541',\n",
       "  'http://www.ncbi.nlm.nih.gov/pubmed/12239580',\n",
       "  'http://www.ncbi.nlm.nih.gov/pubmed/8896569',\n",
       "  'http://www.ncbi.nlm.nih.gov/pubmed/6650562',\n",
       "  'http://www.ncbi.nlm.nih.gov/pubmed/20598273',\n",
       "  'http://www.ncbi.nlm.nih.gov/pubmed/21995290',\n",
       "  'http://www.ncbi.nlm.nih.gov/pubmed/23001136'],\n",
       " 'id': '55031181e9bde69634000014',\n",
       " 'ideal_answer': [\"Coding sequence mutations in RET, GDNF, EDNRB, EDN3, and SOX10 are involved in the development of Hirschsprung disease. The majority of these genes was shown to be related to Mendelian syndromic forms of Hirschsprung's disease, whereas the non-Mendelian inheritance of sporadic non-syndromic Hirschsprung disease proved to be complex; involvement of multiple loci was demonstrated in a multiplicative model.\"],\n",
       " 'snippets': [{'beginSection': 'abstract',\n",
       "   'document': 'http://www.ncbi.nlm.nih.gov/pubmed/15829955',\n",
       "   'endSection': 'abstract',\n",
       "   'offsetInBeginSection': 131,\n",
       "   'offsetInEndSection': 358,\n",
       "   'text': 'Hirschsprung disease (HSCR) is a multifactorial, non-mendelian disorder in which rare high-penetrance coding sequence mutations in the receptor tyrosine kinase RET contribute to risk in combination with mutations at other genes'},\n",
       "  {'beginSection': 'abstract',\n",
       "   'document': 'http://www.ncbi.nlm.nih.gov/pubmed/15617541',\n",
       "   'endSection': 'abstract',\n",
       "   'offsetInBeginSection': 554,\n",
       "   'offsetInEndSection': 992,\n",
       "   'text': \"In this study, we review the identification of genes and loci involved in the non-syndromic common form and syndromic Mendelian forms of Hirschsprung's disease. The majority of the identified genes are related to Mendelian syndromic forms of Hirschsprung's disease. The non-Mendelian inheritance of sporadic non-syndromic Hirschsprung's disease proved to be complex; involvement of multiple loci was demonstrated in a multiplicative model\"},\n",
       "  {'beginSection': 'abstract',\n",
       "   'document': 'http://www.ncbi.nlm.nih.gov/pubmed/12239580',\n",
       "   'endSection': 'abstract',\n",
       "   'offsetInBeginSection': 397,\n",
       "   'offsetInEndSection': 939,\n",
       "   'text': 'Coding sequence mutations in e.g. RET, GDNF, EDNRB, EDN3, and SOX10 lead to long-segment (L-HSCR) as well as syndromic HSCR but fail to explain the transmission of the much more common short-segment form (S-HSCR). Furthermore, mutations in the RET gene are responsible for approximately half of the familial and some sporadic cases, strongly suggesting, on the one hand, the importance of non-coding variations and, on the other hand, that additional genes involved in the development of the enteric nervous system still await their discovery'},\n",
       "  {'beginSection': 'abstract',\n",
       "   'document': 'http://www.ncbi.nlm.nih.gov/pubmed/12239580',\n",
       "   'endSection': 'abstract',\n",
       "   'offsetInBeginSection': 941,\n",
       "   'offsetInEndSection': 1279,\n",
       "   'text': 'For almost all of the identified HSCR genes incomplete penetrance of the HSCR phenotype has been reported, probably due to modifier loci. Therefore, HSCR has become a model for a complex oligo-/polygenic disorder in which the relationship between different genes creating a non-mendelian inheritance pattern still remains to be elucidated'},\n",
       "  {'beginSection': 'abstract',\n",
       "   'document': 'http://www.ncbi.nlm.nih.gov/pubmed/15829955',\n",
       "   'endSection': 'abstract',\n",
       "   'offsetInBeginSection': 129,\n",
       "   'offsetInEndSection': 358,\n",
       "   'text': ' Hirschsprung disease (HSCR) is a multifactorial, non-mendelian disorder in which rare high-penetrance coding sequence mutations in the receptor tyrosine kinase RET contribute to risk in combination with mutations at other genes.'},\n",
       "  {'beginSection': 'abstract',\n",
       "   'document': 'http://www.ncbi.nlm.nih.gov/pubmed/6650562',\n",
       "   'endSection': 'abstract',\n",
       "   'offsetInBeginSection': 851,\n",
       "   'offsetInEndSection': 1007,\n",
       "   'text': ' The inheritance of Hirschsprung disease is generally consistent with sex-modified multifactorial inheritance with a lower threshold of expression in males.'},\n",
       "  {'beginSection': 'abstract',\n",
       "   'document': 'http://www.ncbi.nlm.nih.gov/pubmed/15829955',\n",
       "   'endSection': 'abstract',\n",
       "   'offsetInBeginSection': 131,\n",
       "   'offsetInEndSection': 359,\n",
       "   'text': 'Hirschsprung disease (HSCR) is a multifactorial, non-mendelian disorder in which rare high-penetrance coding sequence mutations in the receptor tyrosine kinase RET contribute to risk in combination with mutations at other genes.'},\n",
       "  {'beginSection': 'title',\n",
       "   'document': 'http://www.ncbi.nlm.nih.gov/pubmed/20598273',\n",
       "   'endSection': 'title',\n",
       "   'offsetInBeginSection': 0,\n",
       "   'offsetInEndSection': 131,\n",
       "   'text': 'Differential contributions of rare and common, coding and noncoding Ret mutations to multifactorial Hirschsprung disease liability.'},\n",
       "  {'beginSection': 'abstract',\n",
       "   'document': 'http://www.ncbi.nlm.nih.gov/pubmed/21995290',\n",
       "   'endSection': 'abstract',\n",
       "   'offsetInBeginSection': 0,\n",
       "   'offsetInEndSection': 210,\n",
       "   'text': 'BACKGROUND: RET is the major gene associated to Hirschsprung disease (HSCR) with differential contributions of its rare and common, coding and noncoding mutations to the multifactorial nature of this pathology.'},\n",
       "  {'beginSection': 'abstract',\n",
       "   'document': 'http://www.ncbi.nlm.nih.gov/pubmed/15829955',\n",
       "   'endSection': 'abstract',\n",
       "   'offsetInBeginSection': 131,\n",
       "   'offsetInEndSection': 358,\n",
       "   'text': 'Hirschsprung disease (HSCR) is a multifactorial, non-mendelian disorder in which rare high-penetrance coding sequence mutations in the receptor tyrosine kinase RET contribute to risk in combination with mutations at other genes'},\n",
       "  {'beginSection': 'abstract',\n",
       "   'document': 'http://www.ncbi.nlm.nih.gov/pubmed/15617541',\n",
       "   'endSection': 'abstract',\n",
       "   'offsetInBeginSection': 554,\n",
       "   'offsetInEndSection': 992,\n",
       "   'text': \"In this study, we review the identification of genes and loci involved in the non-syndromic common form and syndromic Mendelian forms of Hirschsprung's disease. The majority of the identified genes are related to Mendelian syndromic forms of Hirschsprung's disease. The non-Mendelian inheritance of sporadic non-syndromic Hirschsprung's disease proved to be complex; involvement of multiple loci was demonstrated in a multiplicative model\"},\n",
       "  {'beginSection': 'abstract',\n",
       "   'document': 'http://www.ncbi.nlm.nih.gov/pubmed/15829955',\n",
       "   'endSection': 'abstract',\n",
       "   'offsetInBeginSection': 131,\n",
       "   'offsetInEndSection': 359,\n",
       "   'text': 'Hirschsprung disease (HSCR) is a multifactorial, non-mendelian disorder in which rare high-penetrance coding sequence mutations in the receptor tyrosine kinase RET contribute to risk in combination with mutations at other genes.'},\n",
       "  {'beginSection': 'abstract',\n",
       "   'document': 'http://www.ncbi.nlm.nih.gov/pubmed/15858239',\n",
       "   'endSection': 'abstract',\n",
       "   'offsetInBeginSection': 151,\n",
       "   'offsetInEndSection': 376,\n",
       "   'text': 'In the etiology of Hirschsprung disease various genes play a role; these are: RET, EDNRB, GDNF, EDN3 and SOX10, NTN3, ECE1, Mutations in these genes may result in dominant, recessive or multifactorial patterns of inheritance.'},\n",
       "  {'beginSection': 'abstract',\n",
       "   'document': 'http://www.ncbi.nlm.nih.gov/pubmed/15829955',\n",
       "   'endSection': 'abstract',\n",
       "   'offsetInBeginSection': 131,\n",
       "   'offsetInEndSection': 358,\n",
       "   'text': 'Hirschsprung disease (HSCR) is a multifactorial, non-mendelian disorder in which rare high-penetrance coding sequence mutations in the receptor tyrosine kinase RET contribute to risk in combination with mutations at other genes'},\n",
       "  {'beginSection': 'abstract',\n",
       "   'document': 'http://www.ncbi.nlm.nih.gov/pubmed/15829955',\n",
       "   'endSection': 'abstract',\n",
       "   'offsetInBeginSection': 131,\n",
       "   'offsetInEndSection': 358,\n",
       "   'text': 'Hirschsprung disease (HSCR) is a multifactorial, non-mendelian disorder in which rare high-penetrance coding sequence mutations in the receptor tyrosine kinase RET contribute to risk in combination with mutations at other genes'},\n",
       "  {'beginSection': 'title',\n",
       "   'document': 'http://www.ncbi.nlm.nih.gov/pubmed/23001136',\n",
       "   'endSection': 'title',\n",
       "   'offsetInBeginSection': 0,\n",
       "   'offsetInEndSection': 83,\n",
       "   'text': \"Chromosomal and related Mendelian syndromes associated with Hirschsprung's disease.\"},\n",
       "  {'beginSection': 'abstract',\n",
       "   'document': 'http://www.ncbi.nlm.nih.gov/pubmed/15617541',\n",
       "   'endSection': 'abstract',\n",
       "   'offsetInBeginSection': 715,\n",
       "   'offsetInEndSection': 818,\n",
       "   'text': \"The majority of the identified genes are related to Mendelian syndromic forms of Hirschsprung's disease\"},\n",
       "  {'beginSection': 'abstract',\n",
       "   'document': 'http://www.ncbi.nlm.nih.gov/pubmed/15829955',\n",
       "   'endSection': 'abstract',\n",
       "   'offsetInBeginSection': 131,\n",
       "   'offsetInEndSection': 358,\n",
       "   'text': 'Hirschsprung disease (HSCR) is a multifactorial, non-mendelian disorder in which rare high-penetrance coding sequence mutations in the receptor tyrosine kinase RET contribute to risk in combination with mutations at other genes'},\n",
       "  {'beginSection': 'abstract',\n",
       "   'document': 'http://www.ncbi.nlm.nih.gov/pubmed/15858239',\n",
       "   'endSection': 'abstract',\n",
       "   'offsetInBeginSection': 151,\n",
       "   'offsetInEndSection': 375,\n",
       "   'text': 'In the etiology of Hirschsprung disease various genes play a role; these are: RET, EDNRB, GDNF, EDN3 and SOX10, NTN3, ECE1, Mutations in these genes may result in dominant, recessive or multifactorial patterns of inheritance'},\n",
       "  {'beginSection': 'title',\n",
       "   'document': 'http://www.ncbi.nlm.nih.gov/pubmed/23001136',\n",
       "   'endSection': 'title',\n",
       "   'offsetInBeginSection': 0,\n",
       "   'offsetInEndSection': 83,\n",
       "   'text': \"Chromosomal and related Mendelian syndromes associated with Hirschsprung's disease.\"},\n",
       "  {'beginSection': 'abstract',\n",
       "   'document': 'http://www.ncbi.nlm.nih.gov/pubmed/15617541',\n",
       "   'endSection': 'abstract',\n",
       "   'offsetInBeginSection': 715,\n",
       "   'offsetInEndSection': 818,\n",
       "   'text': \"The majority of the identified genes are related to Mendelian syndromic forms of Hirschsprung's disease\"},\n",
       "  {'beginSection': 'abstract',\n",
       "   'document': 'http://www.ncbi.nlm.nih.gov/pubmed/15829955',\n",
       "   'endSection': 'abstract',\n",
       "   'offsetInBeginSection': 131,\n",
       "   'offsetInEndSection': 358,\n",
       "   'text': 'Hirschsprung disease (HSCR) is a multifactorial, non-mendelian disorder in which rare high-penetrance coding sequence mutations in the receptor tyrosine kinase RET contribute to risk in combination with mutations at other genes'},\n",
       "  {'beginSection': 'abstract',\n",
       "   'document': 'http://www.ncbi.nlm.nih.gov/pubmed/8896569',\n",
       "   'endSection': 'abstract',\n",
       "   'offsetInBeginSection': 417,\n",
       "   'offsetInEndSection': 615,\n",
       "   'text': 'On the basis of a skewed sex-ratio (M/F = 4/1) and a risk to relatives much higher than the incidence in the general population, HSCR has long been regarded as a sex-modified multifactorial disorder'},\n",
       "  {'beginSection': 'abstract',\n",
       "   'document': 'http://www.ncbi.nlm.nih.gov/pubmed/6650562',\n",
       "   'endSection': 'abstract',\n",
       "   'offsetInBeginSection': 858,\n",
       "   'offsetInEndSection': 1012,\n",
       "   'text': 'The inheritance of Hirschsprung disease is generally consistent with sex-modified multifactorial inheritance with a lower threshold of expression in males'},\n",
       "  {'beginSection': 'abstract',\n",
       "   'document': 'http://www.ncbi.nlm.nih.gov/pubmed/15858239',\n",
       "   'endSection': 'abstract',\n",
       "   'offsetInBeginSection': 151,\n",
       "   'offsetInEndSection': 375,\n",
       "   'text': 'In the etiology of Hirschsprung disease various genes play a role; these are: RET, EDNRB, GDNF, EDN3 and SOX10, NTN3, ECE1, Mutations in these genes may result in dominant, recessive or multifactorial patterns of inheritance'},\n",
       "  {'beginSection': 'title',\n",
       "   'document': 'http://www.ncbi.nlm.nih.gov/pubmed/23001136',\n",
       "   'endSection': 'title',\n",
       "   'offsetInBeginSection': 0,\n",
       "   'offsetInEndSection': 83,\n",
       "   'text': \"Chromosomal and related Mendelian syndromes associated with Hirschsprung's disease.\"},\n",
       "  {'beginSection': 'abstract',\n",
       "   'document': 'http://www.ncbi.nlm.nih.gov/pubmed/15617541',\n",
       "   'endSection': 'abstract',\n",
       "   'offsetInBeginSection': 715,\n",
       "   'offsetInEndSection': 818,\n",
       "   'text': \"The majority of the identified genes are related to Mendelian syndromic forms of Hirschsprung's disease\"},\n",
       "  {'beginSection': 'abstract',\n",
       "   'document': 'http://www.ncbi.nlm.nih.gov/pubmed/15617541',\n",
       "   'endSection': 'abstract',\n",
       "   'offsetInBeginSection': 820,\n",
       "   'offsetInEndSection': 992,\n",
       "   'text': \"The non-Mendelian inheritance of sporadic non-syndromic Hirschsprung's disease proved to be complex; involvement of multiple loci was demonstrated in a multiplicative model\"},\n",
       "  {'beginSection': 'abstract',\n",
       "   'document': 'http://www.ncbi.nlm.nih.gov/pubmed/15829955',\n",
       "   'endSection': 'abstract',\n",
       "   'offsetInBeginSection': 131,\n",
       "   'offsetInEndSection': 358,\n",
       "   'text': 'Hirschsprung disease (HSCR) is a multifactorial, non-mendelian disorder in which rare high-penetrance coding sequence mutations in the receptor tyrosine kinase RET contribute to risk in combination with mutations at other genes'},\n",
       "  {'beginSection': 'title',\n",
       "   'document': 'http://www.ncbi.nlm.nih.gov/pubmed/23001136',\n",
       "   'endSection': 'title',\n",
       "   'offsetInBeginSection': 0,\n",
       "   'offsetInEndSection': 83,\n",
       "   'text': \"Chromosomal and related Mendelian syndromes associated with Hirschsprung's disease.\"}],\n",
       " 'triples': [],\n",
       " 'type': 'summary'}"
      ]
     },
     "execution_count": 42,
     "metadata": {},
     "output_type": "execute_result"
    }
   ],
   "source": [
    "data['questions'][0]"
   ]
  },
  {
   "cell_type": "code",
   "execution_count": null,
   "metadata": {
    "collapsed": true
   },
   "outputs": [],
   "source": [
    "#preprocessing\n",
    "with open('./types.txt') as ftype:\n",
    "    for line in ftype:\n",
    "        line = line.strip('\\n')"
   ]
  },
  {
   "cell_type": "markdown",
   "metadata": {
    "collapsed": true
   },
   "source": [
    "## model"
   ]
  },
  {
   "cell_type": "code",
   "execution_count": 1,
   "metadata": {},
   "outputs": [
    {
     "data": {
      "text/plain": [
       "<torch._C.Generator at 0x17563f70f30>"
      ]
     },
     "execution_count": 1,
     "metadata": {},
     "output_type": "execute_result"
    }
   ],
   "source": [
    "import torch\n",
    "import torch.autograd as autograd\n",
    "import torch.nn as nn\n",
    "import torch.nn.functional as F\n",
    "import torch.optim as optim\n",
    "\n",
    "torch.manual_seed(1)"
   ]
  },
  {
   "cell_type": "code",
   "execution_count": null,
   "metadata": {
    "collapsed": true
   },
   "outputs": [],
   "source": [
    "class BaselineModel(nn.Module):\n",
    "    def __init__(self, embedding_dim, hidden_dim, vocab_size, tagset_size, embeddings, batch_size=1, num_layers=1):\n",
    "        super(BaselineModel, self).__init__()\n",
    "        self.batch_size = batch_size\n",
    "        self.num_layers = num_layers\n",
    "        self.hidden_dim = hidden_dim\n",
    "\n",
    "        self.word_embeddings = nn.Embedding(vocab_size, embedding_dim)\n",
    "        self.word_embedding.weight = nn.Parameter(embeddings)\n",
    "        \n",
    "        self.qlstm = nn.LSTM(embedding_dim, hidden_dim, bidirectional=True)\n",
    "        self.clstm = nn.LSTM(embedding_dim, hidden_dim, bidirectional=True)\n",
    "\n",
    "        # The linear layer that maps from hidden state space to tag space\n",
    "        self.qhidden = self.initHidden()\n",
    "        self.chidden = self.initHidden()\n",
    "        \n",
    "        self.start2end = nn.Linear(2*hidden_dim*2, 2*hidden_dim*2)\n",
    "        self.start2start = nn.Linear(2*hidden_dim*2, 1)\n",
    "\n",
    "        \n",
    "    def attnCombine(self, qlstm_out, clstm_out):\n",
    "        # (batch_size, hidden_size*num_directions, qseq_len)\n",
    "        qlstm_out_tmp = qlstm_out.permute(1, 2, 0)\n",
    "        # (batch_size, cseq_len, hidden_size*num_directions)\n",
    "        clstm_out_tmp = clstm_out.permute(1, 0, 2)\n",
    "        # (batch_size, cseq_len, qseq_len)\n",
    "        attn_weights = F.softmax(torch.bmm(clstm_out_tmp, qlstm_out_tmp), dim=2)\n",
    "        # (batch_size, qseq_len, hidden_size*num_directions)\n",
    "        qlstm_out_tmp_2 = qlstm_out.permute(1, 0, 2)\n",
    "        # (batch_size, cseq_len, hidden_size*num_directions)\n",
    "        attn_vec = torch.bmm(attn_weights, qlstm_out_tmp2)\n",
    "        clstm_attn_out = torch.concat((clstm_out_tmp, attn_vec), dim=2)\n",
    "        # (batch_size, cseq_len, 2*hidden_size*num_directions)\n",
    "        return clstm_attn_out\n",
    "    \n",
    "    def initHidden(self):\n",
    "        # Before we've done anything, we dont have any hidden state.\n",
    "        # Refer to the Pytorch documentation to see exactly\n",
    "        # why they have this dimensionality.\n",
    "        # The axes semantics are (num_layers*direction_num, minibatch_size, hidden_dim)\n",
    "        batch_size = self.batch_size\n",
    "        num_layers = self.num_layers\n",
    "        return (autograd.Variable(torch.zeros(num_layers*2, batch_size, self.hidden_dim)),\n",
    "                autograd.Variable(torch.zeros(num_layers*2, batch_size, self.hidden_dim)))\n",
    "\n",
    "    def forward(self, question, context):\n",
    "        embeds = self.word_embeddings(sentence)\n",
    "        # output : (seq_len, batch_size, hidden_size*num_directions)\n",
    "        qlstm_out, self.qhidden = self.qlstm(\n",
    "            embeds.view(len(question), 1, -1), self.qhidden)\n",
    "        clstm_out, self.chidden = self.clstm(\n",
    "            embeds.view(len(context), 1, -1, self.chidden))\n",
    "        # (batch_size, cseq_len, 2*hidden_size*num_directions)\n",
    "        clstm_attn_out = self.attnCombine(qlstm_out, clstm_out)\n",
    "        # (batch_size, cseq_len, 2*hidden_size*num_directions)\n",
    "        end_space = self.start2end(clstm_attn_out)\n",
    "        # (batch_size, 2*hidden_size*num_directions, cseq_len)\n",
    "        clstm_attn_out_tmp = clstm_attn_out.permute(0, 2, 1)\n",
    "        \n",
    "        # (batch_size, cseq_len, 1)\n",
    "        start_prob = F.sigmoid(self.start2start(clstm_attn_out))\n",
    "        # (batch_size, cseq_len, cseq_len)\n",
    "        end_prob = F.softmax(torch.bmm(end_space, clstm_attn_out_tmp))\n",
    "        \n",
    "        # (batch_size, cseq_len, cseq_len)\n",
    "        span_prob = end_prob*start_prob\n",
    "        return span_prob"
   ]
  },
  {
   "cell_type": "code",
   "execution_count": null,
   "metadata": {
    "collapsed": true
   },
   "outputs": [],
   "source": []
  }
 ],
 "metadata": {
  "kernelspec": {
   "display_name": "Python 3",
   "language": "python",
   "name": "python3"
  },
  "language_info": {
   "codemirror_mode": {
    "name": "ipython",
    "version": 3
   },
   "file_extension": ".py",
   "mimetype": "text/x-python",
   "name": "python",
   "nbconvert_exporter": "python",
   "pygments_lexer": "ipython3",
   "version": "3.6.3"
  }
 },
 "nbformat": 4,
 "nbformat_minor": 2
}
